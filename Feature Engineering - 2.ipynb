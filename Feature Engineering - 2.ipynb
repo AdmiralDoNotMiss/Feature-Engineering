{
 "cells": [
  {
   "cell_type": "markdown",
   "id": "d50a6035",
   "metadata": {},
   "source": [
    "## Missing Values Treatment\n"
   ]
  },
  {
   "cell_type": "code",
   "execution_count": 2,
   "id": "25f4faf9",
   "metadata": {},
   "outputs": [],
   "source": [
    "import numpy as np\n",
    "import pandas as pd\n",
    "import matplotlib.pyplot as plt\n",
    "import seaborn as sns"
   ]
  },
  {
   "cell_type": "code",
   "execution_count": 3,
   "id": "645d1c8d",
   "metadata": {},
   "outputs": [],
   "source": [
    "data = pd.read_csv('C:/Users/htc/Downloads/Loan.csv')"
   ]
  },
  {
   "cell_type": "code",
   "execution_count": 4,
   "id": "4465e9ae",
   "metadata": {},
   "outputs": [
    {
     "data": {
      "text/html": [
       "<div>\n",
       "<style scoped>\n",
       "    .dataframe tbody tr th:only-of-type {\n",
       "        vertical-align: middle;\n",
       "    }\n",
       "\n",
       "    .dataframe tbody tr th {\n",
       "        vertical-align: top;\n",
       "    }\n",
       "\n",
       "    .dataframe thead th {\n",
       "        text-align: right;\n",
       "    }\n",
       "</style>\n",
       "<table border=\"1\" class=\"dataframe\">\n",
       "  <thead>\n",
       "    <tr style=\"text-align: right;\">\n",
       "      <th></th>\n",
       "      <th>Loan_ID</th>\n",
       "      <th>Gender</th>\n",
       "      <th>Married</th>\n",
       "      <th>Dependents</th>\n",
       "      <th>Education</th>\n",
       "      <th>Self_Employed</th>\n",
       "      <th>ApplicantIncome</th>\n",
       "      <th>CoapplicantIncome</th>\n",
       "      <th>LoanAmount</th>\n",
       "      <th>Loan_Amount_Term</th>\n",
       "      <th>Credit_History</th>\n",
       "      <th>Property_Area</th>\n",
       "      <th>Loan_Status</th>\n",
       "    </tr>\n",
       "  </thead>\n",
       "  <tbody>\n",
       "    <tr>\n",
       "      <th>0</th>\n",
       "      <td>LP001002</td>\n",
       "      <td>Male</td>\n",
       "      <td>No</td>\n",
       "      <td>0</td>\n",
       "      <td>Graduate</td>\n",
       "      <td>No</td>\n",
       "      <td>5849</td>\n",
       "      <td>0.0</td>\n",
       "      <td>NaN</td>\n",
       "      <td>360.0</td>\n",
       "      <td>1.0</td>\n",
       "      <td>Urban</td>\n",
       "      <td>Y</td>\n",
       "    </tr>\n",
       "    <tr>\n",
       "      <th>1</th>\n",
       "      <td>LP001003</td>\n",
       "      <td>Male</td>\n",
       "      <td>Yes</td>\n",
       "      <td>1</td>\n",
       "      <td>Graduate</td>\n",
       "      <td>No</td>\n",
       "      <td>4583</td>\n",
       "      <td>1508.0</td>\n",
       "      <td>128.0</td>\n",
       "      <td>360.0</td>\n",
       "      <td>1.0</td>\n",
       "      <td>Rural</td>\n",
       "      <td>N</td>\n",
       "    </tr>\n",
       "    <tr>\n",
       "      <th>2</th>\n",
       "      <td>LP001005</td>\n",
       "      <td>Male</td>\n",
       "      <td>Yes</td>\n",
       "      <td>0</td>\n",
       "      <td>Graduate</td>\n",
       "      <td>Yes</td>\n",
       "      <td>3000</td>\n",
       "      <td>0.0</td>\n",
       "      <td>66.0</td>\n",
       "      <td>360.0</td>\n",
       "      <td>1.0</td>\n",
       "      <td>Urban</td>\n",
       "      <td>Y</td>\n",
       "    </tr>\n",
       "    <tr>\n",
       "      <th>3</th>\n",
       "      <td>LP001006</td>\n",
       "      <td>Male</td>\n",
       "      <td>Yes</td>\n",
       "      <td>0</td>\n",
       "      <td>Not Graduate</td>\n",
       "      <td>No</td>\n",
       "      <td>2583</td>\n",
       "      <td>2358.0</td>\n",
       "      <td>120.0</td>\n",
       "      <td>360.0</td>\n",
       "      <td>1.0</td>\n",
       "      <td>Urban</td>\n",
       "      <td>Y</td>\n",
       "    </tr>\n",
       "    <tr>\n",
       "      <th>4</th>\n",
       "      <td>LP001008</td>\n",
       "      <td>Male</td>\n",
       "      <td>No</td>\n",
       "      <td>0</td>\n",
       "      <td>Graduate</td>\n",
       "      <td>No</td>\n",
       "      <td>6000</td>\n",
       "      <td>0.0</td>\n",
       "      <td>141.0</td>\n",
       "      <td>360.0</td>\n",
       "      <td>1.0</td>\n",
       "      <td>Urban</td>\n",
       "      <td>Y</td>\n",
       "    </tr>\n",
       "  </tbody>\n",
       "</table>\n",
       "</div>"
      ],
      "text/plain": [
       "    Loan_ID Gender Married Dependents     Education Self_Employed  \\\n",
       "0  LP001002   Male      No          0      Graduate            No   \n",
       "1  LP001003   Male     Yes          1      Graduate            No   \n",
       "2  LP001005   Male     Yes          0      Graduate           Yes   \n",
       "3  LP001006   Male     Yes          0  Not Graduate            No   \n",
       "4  LP001008   Male      No          0      Graduate            No   \n",
       "\n",
       "   ApplicantIncome  CoapplicantIncome  LoanAmount  Loan_Amount_Term  \\\n",
       "0             5849                0.0         NaN             360.0   \n",
       "1             4583             1508.0       128.0             360.0   \n",
       "2             3000                0.0        66.0             360.0   \n",
       "3             2583             2358.0       120.0             360.0   \n",
       "4             6000                0.0       141.0             360.0   \n",
       "\n",
       "   Credit_History Property_Area Loan_Status  \n",
       "0             1.0         Urban           Y  \n",
       "1             1.0         Rural           N  \n",
       "2             1.0         Urban           Y  \n",
       "3             1.0         Urban           Y  \n",
       "4             1.0         Urban           Y  "
      ]
     },
     "execution_count": 4,
     "metadata": {},
     "output_type": "execute_result"
    }
   ],
   "source": [
    "data.head()"
   ]
  },
  {
   "cell_type": "code",
   "execution_count": 6,
   "id": "4a09403b",
   "metadata": {},
   "outputs": [
    {
     "data": {
      "text/plain": [
       "Loan_ID               0\n",
       "Gender               13\n",
       "Married               3\n",
       "Dependents           15\n",
       "Education             0\n",
       "Self_Employed        32\n",
       "ApplicantIncome       0\n",
       "CoapplicantIncome     0\n",
       "LoanAmount           22\n",
       "Loan_Amount_Term     14\n",
       "Credit_History       50\n",
       "Property_Area         0\n",
       "Loan_Status           0\n",
       "dtype: int64"
      ]
     },
     "execution_count": 6,
     "metadata": {},
     "output_type": "execute_result"
    }
   ],
   "source": [
    "data.isna().sum()"
   ]
  },
  {
   "cell_type": "code",
   "execution_count": 7,
   "id": "e81271ab",
   "metadata": {},
   "outputs": [
    {
     "data": {
      "text/plain": [
       "Credit_History\n",
       "1.0    475\n",
       "0.0     89\n",
       "Name: count, dtype: int64"
      ]
     },
     "execution_count": 7,
     "metadata": {},
     "output_type": "execute_result"
    }
   ],
   "source": [
    "data['Credit_History'].value_counts()"
   ]
  },
  {
   "cell_type": "code",
   "execution_count": 8,
   "id": "d5f52fd3",
   "metadata": {},
   "outputs": [],
   "source": [
    "# It will be very unfair if we decide to drop the 50 rows directly.\n",
    "# It will be very unfair to use the most frequent value here.\n",
    "# So we will just give it an another no. 2"
   ]
  },
  {
   "cell_type": "code",
   "execution_count": 9,
   "id": "939055a6",
   "metadata": {},
   "outputs": [],
   "source": [
    "data['Credit_History'] = data['Credit_History'].fillna(2)"
   ]
  },
  {
   "cell_type": "code",
   "execution_count": 12,
   "id": "9b7ed097",
   "metadata": {},
   "outputs": [],
   "source": [
    "# Similarly with Self_Employed feature"
   ]
  },
  {
   "cell_type": "code",
   "execution_count": 13,
   "id": "976c41bf",
   "metadata": {},
   "outputs": [
    {
     "data": {
      "text/plain": [
       "Self_Employed\n",
       "No     500\n",
       "Yes     82\n",
       "Name: count, dtype: int64"
      ]
     },
     "execution_count": 13,
     "metadata": {},
     "output_type": "execute_result"
    }
   ],
   "source": [
    "data['Self_Employed'].value_counts()"
   ]
  },
  {
   "cell_type": "code",
   "execution_count": 14,
   "id": "2fdb4d9c",
   "metadata": {},
   "outputs": [],
   "source": [
    "data['Self_Employed'] = data['Self_Employed'].fillna('Other')"
   ]
  },
  {
   "cell_type": "markdown",
   "id": "8c898d2b",
   "metadata": {},
   "source": [
    "# Some Imputation techniques"
   ]
  },
  {
   "cell_type": "markdown",
   "id": "b91b0fb1",
   "metadata": {},
   "source": [
    "## Numerical cols."
   ]
  },
  {
   "cell_type": "code",
   "execution_count": 17,
   "id": "bb6180c1",
   "metadata": {},
   "outputs": [
    {
     "name": "stdout",
     "output_type": "stream",
     "text": [
      "Collecting scikit-learn\n",
      "  Obtaining dependency information for scikit-learn from https://files.pythonhosted.org/packages/f1/7d/2e562207176a5dcdad513085670674bb11ffaf37e1393eacb6d7fb502481/scikit_learn-1.3.1-cp311-cp311-win_amd64.whl.metadata\n",
      "  Downloading scikit_learn-1.3.1-cp311-cp311-win_amd64.whl.metadata (11 kB)\n",
      "Requirement already satisfied: numpy<2.0,>=1.17.3 in c:\\users\\htc\\appdata\\local\\programs\\python\\python311\\lib\\site-packages (from scikit-learn) (1.25.2)\n",
      "Requirement already satisfied: scipy>=1.5.0 in c:\\users\\htc\\appdata\\local\\programs\\python\\python311\\lib\\site-packages (from scikit-learn) (1.11.2)\n",
      "Collecting joblib>=1.1.1 (from scikit-learn)\n",
      "  Obtaining dependency information for joblib>=1.1.1 from https://files.pythonhosted.org/packages/10/40/d551139c85db202f1f384ba8bcf96aca2f329440a844f924c8a0040b6d02/joblib-1.3.2-py3-none-any.whl.metadata\n",
      "  Downloading joblib-1.3.2-py3-none-any.whl.metadata (5.4 kB)\n",
      "Collecting threadpoolctl>=2.0.0 (from scikit-learn)\n",
      "  Obtaining dependency information for threadpoolctl>=2.0.0 from https://files.pythonhosted.org/packages/81/12/fd4dea011af9d69e1cad05c75f3f7202cdcbeac9b712eea58ca779a72865/threadpoolctl-3.2.0-py3-none-any.whl.metadata\n",
      "  Downloading threadpoolctl-3.2.0-py3-none-any.whl.metadata (10.0 kB)\n",
      "Downloading scikit_learn-1.3.1-cp311-cp311-win_amd64.whl (9.2 MB)\n",
      "   ---------------------------------------- 0.0/9.2 MB ? eta -:--:--\n",
      "   ---------------------------------------- 0.1/9.2 MB 1.1 MB/s eta 0:00:09\n",
      "   - -------------------------------------- 0.2/9.2 MB 2.4 MB/s eta 0:00:04\n",
      "   - -------------------------------------- 0.4/9.2 MB 2.3 MB/s eta 0:00:04\n",
      "   --- ------------------------------------ 0.7/9.2 MB 3.4 MB/s eta 0:00:03\n",
      "   ----- ---------------------------------- 1.3/9.2 MB 5.3 MB/s eta 0:00:02\n",
      "   --------- ------------------------------ 2.2/9.2 MB 7.5 MB/s eta 0:00:01\n",
      "   --------- ------------------------------ 2.2/9.2 MB 7.5 MB/s eta 0:00:01\n",
      "   --------- ------------------------------ 2.2/9.2 MB 7.5 MB/s eta 0:00:01\n",
      "   ----------- ---------------------------- 2.8/9.2 MB 6.5 MB/s eta 0:00:01\n",
      "   ------------- -------------------------- 3.2/9.2 MB 6.5 MB/s eta 0:00:01\n",
      "   --------------- ------------------------ 3.5/9.2 MB 6.7 MB/s eta 0:00:01\n",
      "   --------------- ------------------------ 3.5/9.2 MB 6.7 MB/s eta 0:00:01\n",
      "   ---------------- ----------------------- 3.7/9.2 MB 5.9 MB/s eta 0:00:01\n",
      "   ----------------- ---------------------- 4.0/9.2 MB 6.1 MB/s eta 0:00:01\n",
      "   ------------------- -------------------- 4.5/9.2 MB 6.3 MB/s eta 0:00:01\n",
      "   ---------------------- ----------------- 5.1/9.2 MB 6.5 MB/s eta 0:00:01\n",
      "   ---------------------- ----------------- 5.2/9.2 MB 6.4 MB/s eta 0:00:01\n",
      "   ------------------------ --------------- 5.6/9.2 MB 6.4 MB/s eta 0:00:01\n",
      "   ------------------------- -------------- 6.0/9.2 MB 6.5 MB/s eta 0:00:01\n",
      "   --------------------------- ------------ 6.2/9.2 MB 6.5 MB/s eta 0:00:01\n",
      "   --------------------------- ------------ 6.3/9.2 MB 6.3 MB/s eta 0:00:01\n",
      "   ---------------------------- ----------- 6.6/9.2 MB 6.4 MB/s eta 0:00:01\n",
      "   ----------------------------- ---------- 6.8/9.2 MB 6.3 MB/s eta 0:00:01\n",
      "   ------------------------------ --------- 6.9/9.2 MB 6.2 MB/s eta 0:00:01\n",
      "   ------------------------------ --------- 7.0/9.2 MB 6.1 MB/s eta 0:00:01\n",
      "   ------------------------------- -------- 7.2/9.2 MB 6.0 MB/s eta 0:00:01\n",
      "   ------------------------------- -------- 7.3/9.2 MB 5.8 MB/s eta 0:00:01\n",
      "   -------------------------------- ------- 7.5/9.2 MB 5.7 MB/s eta 0:00:01\n",
      "   -------------------------------- ------- 7.5/9.2 MB 5.6 MB/s eta 0:00:01\n",
      "   --------------------------------- ------ 7.6/9.2 MB 5.5 MB/s eta 0:00:01\n",
      "   --------------------------------- ------ 7.7/9.2 MB 5.4 MB/s eta 0:00:01\n",
      "   ---------------------------------- ----- 7.8/9.2 MB 5.3 MB/s eta 0:00:01\n",
      "   ---------------------------------- ----- 7.9/9.2 MB 5.2 MB/s eta 0:00:01\n",
      "   ---------------------------------- ----- 8.0/9.2 MB 5.2 MB/s eta 0:00:01\n",
      "   ----------------------------------- ---- 8.1/9.2 MB 5.1 MB/s eta 0:00:01\n",
      "   ----------------------------------- ---- 8.2/9.2 MB 5.0 MB/s eta 0:00:01\n",
      "   ------------------------------------ --- 8.3/9.2 MB 5.0 MB/s eta 0:00:01\n",
      "   ------------------------------------ --- 8.5/9.2 MB 4.9 MB/s eta 0:00:01\n",
      "   ------------------------------------- -- 8.6/9.2 MB 4.8 MB/s eta 0:00:01\n",
      "   -------------------------------------- - 8.8/9.2 MB 4.8 MB/s eta 0:00:01\n",
      "   -------------------------------------- - 8.9/9.2 MB 4.7 MB/s eta 0:00:01\n",
      "   ---------------------------------------  9.0/9.2 MB 4.7 MB/s eta 0:00:01\n",
      "   ---------------------------------------  9.1/9.2 MB 4.6 MB/s eta 0:00:01\n",
      "   ---------------------------------------  9.2/9.2 MB 4.6 MB/s eta 0:00:01\n",
      "   ---------------------------------------  9.2/9.2 MB 4.6 MB/s eta 0:00:01\n",
      "   ---------------------------------------  9.2/9.2 MB 4.6 MB/s eta 0:00:01\n",
      "   ---------------------------------------- 9.2/9.2 MB 4.3 MB/s eta 0:00:00\n",
      "Downloading joblib-1.3.2-py3-none-any.whl (302 kB)\n",
      "   ---------------------------------------- 0.0/302.2 kB ? eta -:--:--\n",
      "   ------------------------- -------------- 194.6/302.2 kB 5.9 MB/s eta 0:00:01\n",
      "   ------------------------- -------------- 194.6/302.2 kB 5.9 MB/s eta 0:00:01\n",
      "   ---------------------------------------  297.0/302.2 kB 2.3 MB/s eta 0:00:01\n",
      "   ---------------------------------------  297.0/302.2 kB 2.3 MB/s eta 0:00:01\n",
      "   ---------------------------------------  297.0/302.2 kB 2.3 MB/s eta 0:00:01\n",
      "   ---------------------------------------- 302.2/302.2 kB 1.2 MB/s eta 0:00:00\n",
      "Downloading threadpoolctl-3.2.0-py3-none-any.whl (15 kB)\n",
      "Installing collected packages: threadpoolctl, joblib, scikit-learn\n",
      "Successfully installed joblib-1.3.2 scikit-learn-1.3.1 threadpoolctl-3.2.0\n"
     ]
    }
   ],
   "source": [
    "!pip install scikit-learn"
   ]
  },
  {
   "cell_type": "code",
   "execution_count": 18,
   "id": "7ec86e9f",
   "metadata": {},
   "outputs": [],
   "source": [
    "from sklearn.impute import SimpleImputer"
   ]
  },
  {
   "cell_type": "code",
   "execution_count": null,
   "id": "6c203c28",
   "metadata": {},
   "outputs": [],
   "source": [
    "num_missing = ['EMI']"
   ]
  }
 ],
 "metadata": {
  "kernelspec": {
   "display_name": "Python 3 (ipykernel)",
   "language": "python",
   "name": "python3"
  },
  "language_info": {
   "codemirror_mode": {
    "name": "ipython",
    "version": 3
   },
   "file_extension": ".py",
   "mimetype": "text/x-python",
   "name": "python",
   "nbconvert_exporter": "python",
   "pygments_lexer": "ipython3",
   "version": "3.11.2"
  }
 },
 "nbformat": 4,
 "nbformat_minor": 5
}
