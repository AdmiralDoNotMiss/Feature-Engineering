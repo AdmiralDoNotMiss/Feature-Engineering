{
 "cells": [
  {
   "cell_type": "code",
   "execution_count": 1,
   "id": "c9d2c14c",
   "metadata": {},
   "outputs": [],
   "source": [
    "import numpy as np\n",
    "import pandas as pd\n",
    "import matplotlib.pyplot as plt\n",
    "import seaborn as sns"
   ]
  },
  {
   "cell_type": "code",
   "execution_count": 2,
   "id": "4461cdc2",
   "metadata": {},
   "outputs": [],
   "source": [
    "data = pd.read_csv('C:/Users/htc/Downloads/Loan.csv')"
   ]
  },
  {
   "cell_type": "code",
   "execution_count": 3,
   "id": "c8482bc7",
   "metadata": {},
   "outputs": [
    {
     "data": {
      "text/html": [
       "<div>\n",
       "<style scoped>\n",
       "    .dataframe tbody tr th:only-of-type {\n",
       "        vertical-align: middle;\n",
       "    }\n",
       "\n",
       "    .dataframe tbody tr th {\n",
       "        vertical-align: top;\n",
       "    }\n",
       "\n",
       "    .dataframe thead th {\n",
       "        text-align: right;\n",
       "    }\n",
       "</style>\n",
       "<table border=\"1\" class=\"dataframe\">\n",
       "  <thead>\n",
       "    <tr style=\"text-align: right;\">\n",
       "      <th></th>\n",
       "      <th>Loan_ID</th>\n",
       "      <th>Gender</th>\n",
       "      <th>Married</th>\n",
       "      <th>Dependents</th>\n",
       "      <th>Education</th>\n",
       "      <th>Self_Employed</th>\n",
       "      <th>ApplicantIncome</th>\n",
       "      <th>CoapplicantIncome</th>\n",
       "      <th>LoanAmount</th>\n",
       "      <th>Loan_Amount_Term</th>\n",
       "      <th>Credit_History</th>\n",
       "      <th>Property_Area</th>\n",
       "      <th>Loan_Status</th>\n",
       "    </tr>\n",
       "  </thead>\n",
       "  <tbody>\n",
       "    <tr>\n",
       "      <th>0</th>\n",
       "      <td>LP001002</td>\n",
       "      <td>Male</td>\n",
       "      <td>No</td>\n",
       "      <td>0</td>\n",
       "      <td>Graduate</td>\n",
       "      <td>No</td>\n",
       "      <td>5849</td>\n",
       "      <td>0.0</td>\n",
       "      <td>NaN</td>\n",
       "      <td>360.0</td>\n",
       "      <td>1.0</td>\n",
       "      <td>Urban</td>\n",
       "      <td>Y</td>\n",
       "    </tr>\n",
       "    <tr>\n",
       "      <th>1</th>\n",
       "      <td>LP001003</td>\n",
       "      <td>Male</td>\n",
       "      <td>Yes</td>\n",
       "      <td>1</td>\n",
       "      <td>Graduate</td>\n",
       "      <td>No</td>\n",
       "      <td>4583</td>\n",
       "      <td>1508.0</td>\n",
       "      <td>128.0</td>\n",
       "      <td>360.0</td>\n",
       "      <td>1.0</td>\n",
       "      <td>Rural</td>\n",
       "      <td>N</td>\n",
       "    </tr>\n",
       "    <tr>\n",
       "      <th>2</th>\n",
       "      <td>LP001005</td>\n",
       "      <td>Male</td>\n",
       "      <td>Yes</td>\n",
       "      <td>0</td>\n",
       "      <td>Graduate</td>\n",
       "      <td>Yes</td>\n",
       "      <td>3000</td>\n",
       "      <td>0.0</td>\n",
       "      <td>66.0</td>\n",
       "      <td>360.0</td>\n",
       "      <td>1.0</td>\n",
       "      <td>Urban</td>\n",
       "      <td>Y</td>\n",
       "    </tr>\n",
       "    <tr>\n",
       "      <th>3</th>\n",
       "      <td>LP001006</td>\n",
       "      <td>Male</td>\n",
       "      <td>Yes</td>\n",
       "      <td>0</td>\n",
       "      <td>Not Graduate</td>\n",
       "      <td>No</td>\n",
       "      <td>2583</td>\n",
       "      <td>2358.0</td>\n",
       "      <td>120.0</td>\n",
       "      <td>360.0</td>\n",
       "      <td>1.0</td>\n",
       "      <td>Urban</td>\n",
       "      <td>Y</td>\n",
       "    </tr>\n",
       "    <tr>\n",
       "      <th>4</th>\n",
       "      <td>LP001008</td>\n",
       "      <td>Male</td>\n",
       "      <td>No</td>\n",
       "      <td>0</td>\n",
       "      <td>Graduate</td>\n",
       "      <td>No</td>\n",
       "      <td>6000</td>\n",
       "      <td>0.0</td>\n",
       "      <td>141.0</td>\n",
       "      <td>360.0</td>\n",
       "      <td>1.0</td>\n",
       "      <td>Urban</td>\n",
       "      <td>Y</td>\n",
       "    </tr>\n",
       "  </tbody>\n",
       "</table>\n",
       "</div>"
      ],
      "text/plain": [
       "    Loan_ID Gender Married Dependents     Education Self_Employed  \\\n",
       "0  LP001002   Male      No          0      Graduate            No   \n",
       "1  LP001003   Male     Yes          1      Graduate            No   \n",
       "2  LP001005   Male     Yes          0      Graduate           Yes   \n",
       "3  LP001006   Male     Yes          0  Not Graduate            No   \n",
       "4  LP001008   Male      No          0      Graduate            No   \n",
       "\n",
       "   ApplicantIncome  CoapplicantIncome  LoanAmount  Loan_Amount_Term  \\\n",
       "0             5849                0.0         NaN             360.0   \n",
       "1             4583             1508.0       128.0             360.0   \n",
       "2             3000                0.0        66.0             360.0   \n",
       "3             2583             2358.0       120.0             360.0   \n",
       "4             6000                0.0       141.0             360.0   \n",
       "\n",
       "   Credit_History Property_Area Loan_Status  \n",
       "0             1.0         Urban           Y  \n",
       "1             1.0         Rural           N  \n",
       "2             1.0         Urban           Y  \n",
       "3             1.0         Urban           Y  \n",
       "4             1.0         Urban           Y  "
      ]
     },
     "execution_count": 3,
     "metadata": {},
     "output_type": "execute_result"
    }
   ],
   "source": [
    "data.head()"
   ]
  },
  {
   "cell_type": "code",
   "execution_count": 4,
   "id": "fe94a4da",
   "metadata": {},
   "outputs": [
    {
     "data": {
      "text/plain": [
       "Loan_ID               object\n",
       "Gender                object\n",
       "Married               object\n",
       "Dependents            object\n",
       "Education             object\n",
       "Self_Employed         object\n",
       "ApplicantIncome        int64\n",
       "CoapplicantIncome    float64\n",
       "LoanAmount           float64\n",
       "Loan_Amount_Term     float64\n",
       "Credit_History       float64\n",
       "Property_Area         object\n",
       "Loan_Status           object\n",
       "dtype: object"
      ]
     },
     "execution_count": 4,
     "metadata": {},
     "output_type": "execute_result"
    }
   ],
   "source": [
    "data.dtypes"
   ]
  },
  {
   "cell_type": "code",
   "execution_count": 5,
   "id": "793d9ffe",
   "metadata": {},
   "outputs": [
    {
     "data": {
      "text/plain": [
       "Dependents\n",
       "0     345\n",
       "1     102\n",
       "2     101\n",
       "3+     51\n",
       "Name: count, dtype: int64"
      ]
     },
     "execution_count": 5,
     "metadata": {},
     "output_type": "execute_result"
    }
   ],
   "source": [
    "data['Dependents'].value_counts()"
   ]
  },
  {
   "cell_type": "code",
   "execution_count": 6,
   "id": "40e7f1a4",
   "metadata": {},
   "outputs": [],
   "source": [
    "# Here 3+ causing the issue. we will convert this feature into an int."
   ]
  },
  {
   "cell_type": "code",
   "execution_count": 7,
   "id": "0c1a74a2",
   "metadata": {},
   "outputs": [],
   "source": [
    "data = data.drop(columns = 'Loan_ID')"
   ]
  },
  {
   "cell_type": "code",
   "execution_count": 8,
   "id": "24380ea9",
   "metadata": {},
   "outputs": [],
   "source": [
    "# Find some relation between features and loan status"
   ]
  },
  {
   "cell_type": "code",
   "execution_count": 9,
   "id": "66a0bcc8",
   "metadata": {},
   "outputs": [
    {
     "data": {
      "text/html": [
       "<div>\n",
       "<style scoped>\n",
       "    .dataframe tbody tr th:only-of-type {\n",
       "        vertical-align: middle;\n",
       "    }\n",
       "\n",
       "    .dataframe tbody tr th {\n",
       "        vertical-align: top;\n",
       "    }\n",
       "\n",
       "    .dataframe thead th {\n",
       "        text-align: right;\n",
       "    }\n",
       "</style>\n",
       "<table border=\"1\" class=\"dataframe\">\n",
       "  <thead>\n",
       "    <tr style=\"text-align: right;\">\n",
       "      <th></th>\n",
       "      <th>ApplicantIncome</th>\n",
       "      <th>CoapplicantIncome</th>\n",
       "      <th>LoanAmount</th>\n",
       "      <th>Loan_Amount_Term</th>\n",
       "      <th>Credit_History</th>\n",
       "    </tr>\n",
       "  </thead>\n",
       "  <tbody>\n",
       "    <tr>\n",
       "      <th>count</th>\n",
       "      <td>614.000000</td>\n",
       "      <td>614.000000</td>\n",
       "      <td>592.000000</td>\n",
       "      <td>600.00000</td>\n",
       "      <td>564.000000</td>\n",
       "    </tr>\n",
       "    <tr>\n",
       "      <th>mean</th>\n",
       "      <td>5403.459283</td>\n",
       "      <td>1621.245798</td>\n",
       "      <td>146.412162</td>\n",
       "      <td>342.00000</td>\n",
       "      <td>0.842199</td>\n",
       "    </tr>\n",
       "    <tr>\n",
       "      <th>std</th>\n",
       "      <td>6109.041673</td>\n",
       "      <td>2926.248369</td>\n",
       "      <td>85.587325</td>\n",
       "      <td>65.12041</td>\n",
       "      <td>0.364878</td>\n",
       "    </tr>\n",
       "    <tr>\n",
       "      <th>min</th>\n",
       "      <td>150.000000</td>\n",
       "      <td>0.000000</td>\n",
       "      <td>9.000000</td>\n",
       "      <td>12.00000</td>\n",
       "      <td>0.000000</td>\n",
       "    </tr>\n",
       "    <tr>\n",
       "      <th>25%</th>\n",
       "      <td>2877.500000</td>\n",
       "      <td>0.000000</td>\n",
       "      <td>100.000000</td>\n",
       "      <td>360.00000</td>\n",
       "      <td>1.000000</td>\n",
       "    </tr>\n",
       "    <tr>\n",
       "      <th>50%</th>\n",
       "      <td>3812.500000</td>\n",
       "      <td>1188.500000</td>\n",
       "      <td>128.000000</td>\n",
       "      <td>360.00000</td>\n",
       "      <td>1.000000</td>\n",
       "    </tr>\n",
       "    <tr>\n",
       "      <th>75%</th>\n",
       "      <td>5795.000000</td>\n",
       "      <td>2297.250000</td>\n",
       "      <td>168.000000</td>\n",
       "      <td>360.00000</td>\n",
       "      <td>1.000000</td>\n",
       "    </tr>\n",
       "    <tr>\n",
       "      <th>max</th>\n",
       "      <td>81000.000000</td>\n",
       "      <td>41667.000000</td>\n",
       "      <td>700.000000</td>\n",
       "      <td>480.00000</td>\n",
       "      <td>1.000000</td>\n",
       "    </tr>\n",
       "  </tbody>\n",
       "</table>\n",
       "</div>"
      ],
      "text/plain": [
       "       ApplicantIncome  CoapplicantIncome  LoanAmount  Loan_Amount_Term  \\\n",
       "count       614.000000         614.000000  592.000000         600.00000   \n",
       "mean       5403.459283        1621.245798  146.412162         342.00000   \n",
       "std        6109.041673        2926.248369   85.587325          65.12041   \n",
       "min         150.000000           0.000000    9.000000          12.00000   \n",
       "25%        2877.500000           0.000000  100.000000         360.00000   \n",
       "50%        3812.500000        1188.500000  128.000000         360.00000   \n",
       "75%        5795.000000        2297.250000  168.000000         360.00000   \n",
       "max       81000.000000       41667.000000  700.000000         480.00000   \n",
       "\n",
       "       Credit_History  \n",
       "count      564.000000  \n",
       "mean         0.842199  \n",
       "std          0.364878  \n",
       "min          0.000000  \n",
       "25%          1.000000  \n",
       "50%          1.000000  \n",
       "75%          1.000000  \n",
       "max          1.000000  "
      ]
     },
     "execution_count": 9,
     "metadata": {},
     "output_type": "execute_result"
    }
   ],
   "source": [
    "data.describe() # we see some nan values."
   ]
  },
  {
   "cell_type": "code",
   "execution_count": 10,
   "id": "521404b8",
   "metadata": {},
   "outputs": [
    {
     "data": {
      "text/html": [
       "<div>\n",
       "<style scoped>\n",
       "    .dataframe tbody tr th:only-of-type {\n",
       "        vertical-align: middle;\n",
       "    }\n",
       "\n",
       "    .dataframe tbody tr th {\n",
       "        vertical-align: top;\n",
       "    }\n",
       "\n",
       "    .dataframe thead th {\n",
       "        text-align: right;\n",
       "    }\n",
       "</style>\n",
       "<table border=\"1\" class=\"dataframe\">\n",
       "  <thead>\n",
       "    <tr style=\"text-align: right;\">\n",
       "      <th></th>\n",
       "      <th>Gender</th>\n",
       "      <th>Married</th>\n",
       "      <th>Dependents</th>\n",
       "      <th>Education</th>\n",
       "      <th>Self_Employed</th>\n",
       "      <th>Property_Area</th>\n",
       "      <th>Loan_Status</th>\n",
       "    </tr>\n",
       "  </thead>\n",
       "  <tbody>\n",
       "    <tr>\n",
       "      <th>count</th>\n",
       "      <td>601</td>\n",
       "      <td>611</td>\n",
       "      <td>599</td>\n",
       "      <td>614</td>\n",
       "      <td>582</td>\n",
       "      <td>614</td>\n",
       "      <td>614</td>\n",
       "    </tr>\n",
       "    <tr>\n",
       "      <th>unique</th>\n",
       "      <td>2</td>\n",
       "      <td>2</td>\n",
       "      <td>4</td>\n",
       "      <td>2</td>\n",
       "      <td>2</td>\n",
       "      <td>3</td>\n",
       "      <td>2</td>\n",
       "    </tr>\n",
       "    <tr>\n",
       "      <th>top</th>\n",
       "      <td>Male</td>\n",
       "      <td>Yes</td>\n",
       "      <td>0</td>\n",
       "      <td>Graduate</td>\n",
       "      <td>No</td>\n",
       "      <td>Semiurban</td>\n",
       "      <td>Y</td>\n",
       "    </tr>\n",
       "    <tr>\n",
       "      <th>freq</th>\n",
       "      <td>489</td>\n",
       "      <td>398</td>\n",
       "      <td>345</td>\n",
       "      <td>480</td>\n",
       "      <td>500</td>\n",
       "      <td>233</td>\n",
       "      <td>422</td>\n",
       "    </tr>\n",
       "  </tbody>\n",
       "</table>\n",
       "</div>"
      ],
      "text/plain": [
       "       Gender Married Dependents Education Self_Employed Property_Area  \\\n",
       "count     601     611        599       614           582           614   \n",
       "unique      2       2          4         2             2             3   \n",
       "top      Male     Yes          0  Graduate            No     Semiurban   \n",
       "freq      489     398        345       480           500           233   \n",
       "\n",
       "       Loan_Status  \n",
       "count          614  \n",
       "unique           2  \n",
       "top              Y  \n",
       "freq           422  "
      ]
     },
     "execution_count": 10,
     "metadata": {},
     "output_type": "execute_result"
    }
   ],
   "source": [
    "data.describe(include = 'object')"
   ]
  },
  {
   "cell_type": "code",
   "execution_count": 11,
   "id": "6971e00b",
   "metadata": {},
   "outputs": [],
   "source": [
    "# Missing Values"
   ]
  },
  {
   "cell_type": "code",
   "execution_count": 12,
   "id": "f8abc252",
   "metadata": {},
   "outputs": [
    {
     "data": {
      "text/plain": [
       "Gender               13\n",
       "Married               3\n",
       "Dependents           15\n",
       "Education             0\n",
       "Self_Employed        32\n",
       "ApplicantIncome       0\n",
       "CoapplicantIncome     0\n",
       "LoanAmount           22\n",
       "Loan_Amount_Term     14\n",
       "Credit_History       50\n",
       "Property_Area         0\n",
       "Loan_Status           0\n",
       "dtype: int64"
      ]
     },
     "execution_count": 12,
     "metadata": {},
     "output_type": "execute_result"
    }
   ],
   "source": [
    "data.isna().sum()"
   ]
  },
  {
   "cell_type": "code",
   "execution_count": 13,
   "id": "31e98bf5",
   "metadata": {},
   "outputs": [],
   "source": [
    "# Taking a catchold of categorical data"
   ]
  },
  {
   "cell_type": "code",
   "execution_count": 14,
   "id": "dfe2ece3",
   "metadata": {},
   "outputs": [
    {
     "data": {
      "text/plain": [
       "['Gender',\n",
       " 'Married',\n",
       " 'Dependents',\n",
       " 'Education',\n",
       " 'Self_Employed',\n",
       " 'Property_Area',\n",
       " 'Loan_Status']"
      ]
     },
     "execution_count": 14,
     "metadata": {},
     "output_type": "execute_result"
    }
   ],
   "source": [
    "cat_cols = data.dtypes=='object'\n",
    "cat_cols = list(cat_cols[cat_cols].index)\n",
    "cat_cols"
   ]
  },
  {
   "cell_type": "code",
   "execution_count": 15,
   "id": "b305d796",
   "metadata": {},
   "outputs": [
    {
     "data": {
      "text/plain": [
       "['ApplicantIncome',\n",
       " 'CoapplicantIncome',\n",
       " 'LoanAmount',\n",
       " 'Loan_Amount_Term',\n",
       " 'Credit_History']"
      ]
     },
     "execution_count": 15,
     "metadata": {},
     "output_type": "execute_result"
    }
   ],
   "source": [
    "num_cols = data.dtypes != 'object'\n",
    "num_cols = list(num_cols[num_cols].index)\n",
    "num_cols"
   ]
  },
  {
   "cell_type": "code",
   "execution_count": 16,
   "id": "72fb1918",
   "metadata": {},
   "outputs": [],
   "source": [
    "cat_cols.remove('Loan_Status') # Loan Status is target, so removed from features"
   ]
  },
  {
   "cell_type": "code",
   "execution_count": 17,
   "id": "100a4e70",
   "metadata": {},
   "outputs": [
    {
     "data": {
      "text/plain": [
       "['Gender',\n",
       " 'Married',\n",
       " 'Dependents',\n",
       " 'Education',\n",
       " 'Self_Employed',\n",
       " 'Property_Area']"
      ]
     },
     "execution_count": 17,
     "metadata": {},
     "output_type": "execute_result"
    }
   ],
   "source": [
    "cat_cols"
   ]
  },
  {
   "cell_type": "markdown",
   "id": "48086d57",
   "metadata": {},
   "source": [
    "# Univariate Analysis"
   ]
  },
  {
   "cell_type": "code",
   "execution_count": 18,
   "id": "ed5d5e58",
   "metadata": {},
   "outputs": [
    {
     "data": {
      "text/plain": [
       "Loan_Status\n",
       "Y    422\n",
       "N    192\n",
       "Name: count, dtype: int64"
      ]
     },
     "execution_count": 18,
     "metadata": {},
     "output_type": "execute_result"
    }
   ],
   "source": [
    "data['Loan_Status'].value_counts()"
   ]
  },
  {
   "cell_type": "code",
   "execution_count": 19,
   "id": "01c61dba",
   "metadata": {},
   "outputs": [
    {
     "data": {
      "text/plain": [
       "<Axes: xlabel='Loan_Status', ylabel='count'>"
      ]
     },
     "execution_count": 19,
     "metadata": {},
     "output_type": "execute_result"
    },
    {
     "data": {
      "image/png": "[encoded data removed]",
      "text/plain": [
       "<Figure size 640x480 with 1 Axes>"
      ]
     },
     "metadata": {},
     "output_type": "display_data"
    }
   ],
   "source": [
    "sns.countplot(data = data , x = 'Loan_Status')"
   ]
  },
  {
   "cell_type": "code",
   "execution_count": 20,
   "id": "d2afcf4b",
   "metadata": {},
   "outputs": [
    {
     "data": {
      "image/png": "[encoded data removed]",
      "text/plain": [
       "<Figure size 1600x500 with 2 Axes>"
      ]
     },
     "metadata": {},
     "output_type": "display_data"
    }
   ],
   "source": [
    "plt.subplot(121)\n",
    "sns.histplot(data['ApplicantIncome'],kde = True)\n",
    "\n",
    "plt.subplot(122)\n",
    "data['ApplicantIncome'].plot.box(figsize=(16,5))\n",
    "plt.show()"
   ]
  },
  {
   "cell_type": "code",
   "execution_count": 21,
   "id": "8ade731f",
   "metadata": {},
   "outputs": [
    {
     "data": {
      "text/plain": [
       "Loan_Status\n",
       "N    5446.078125\n",
       "Y    5384.068720\n",
       "Name: ApplicantIncome, dtype: float64"
      ]
     },
     "execution_count": 21,
     "metadata": {},
     "output_type": "execute_result"
    }
   ],
   "source": [
    "data.groupby('Loan_Status')['ApplicantIncome'].mean()"
   ]
  },
  {
   "cell_type": "code",
   "execution_count": 22,
   "id": "91bcc3d3",
   "metadata": {},
   "outputs": [],
   "source": [
    "# It seems that average income for both Yes and No are same. But still we will check if this lil' difference is statistically significant?"
   ]
  },
  {
   "cell_type": "code",
   "execution_count": 23,
   "id": "f7df4c06",
   "metadata": {},
   "outputs": [
    {
     "data": {
      "image/png": "[encoded data removed]",
      "text/plain": [
       "<Figure size 640x480 with 1 Axes>"
      ]
     },
     "metadata": {},
     "output_type": "display_data"
    }
   ],
   "source": [
    "data.groupby('Loan_Status')['ApplicantIncome'].mean().plot.bar()\n",
    "plt.ylabel('Mean Income of applicant')\n",
    "plt.show()\n",
    "\n",
    "# Clearly difference is negligible"
   ]
  },
  {
   "cell_type": "code",
   "execution_count": 24,
   "id": "d2b1cf6e",
   "metadata": {},
   "outputs": [],
   "source": [
    "Loan_status_Y_Income = data.loc[data['Loan_Status']=='Y'][['ApplicantIncome']]"
   ]
  },
  {
   "cell_type": "code",
   "execution_count": 25,
   "id": "3a8716a1",
   "metadata": {},
   "outputs": [],
   "source": [
    "Loan_status_N_Income = data.loc[data['Loan_Status']=='N'][['ApplicantIncome']]"
   ]
  },
  {
   "cell_type": "code",
   "execution_count": 26,
   "id": "fbd22a75",
   "metadata": {},
   "outputs": [],
   "source": [
    "# H0: ApplicantIncome and LoanStatus are not related\n",
    "# Ha: They are related"
   ]
  },
  {
   "cell_type": "code",
   "execution_count": 27,
   "id": "ab15ded8",
   "metadata": {},
   "outputs": [],
   "source": [
    "from scipy.stats import ttest_ind"
   ]
  },
  {
   "cell_type": "code",
   "execution_count": 28,
   "id": "91b55cc8",
   "metadata": {},
   "outputs": [],
   "source": [
    "t_stat,p_value = ttest_ind(Loan_status_Y_Income,Loan_status_N_Income,alternative = 'less')"
   ]
  },
  {
   "cell_type": "code",
   "execution_count": 29,
   "id": "511c5d0e",
   "metadata": {},
   "outputs": [
    {
     "data": {
      "text/plain": [
       "array([0.45364391])"
      ]
     },
     "execution_count": 29,
     "metadata": {},
     "output_type": "execute_result"
    }
   ],
   "source": [
    "p_value"
   ]
  },
  {
   "cell_type": "code",
   "execution_count": 30,
   "id": "9111e53b",
   "metadata": {},
   "outputs": [],
   "source": [
    "# Since p_value is high, we are failed to reject the H0\n",
    "# They are not related here"
   ]
  },
  {
   "cell_type": "markdown",
   "id": "959464b6",
   "metadata": {},
   "source": [
    "## Bin Income "
   ]
  },
  {
   "cell_type": "code",
   "execution_count": 31,
   "id": "2adccc45",
   "metadata": {},
   "outputs": [],
   "source": [
    "# Converting categorical into numerical"
   ]
  },
  {
   "cell_type": "code",
   "execution_count": 32,
   "id": "d2c2937f",
   "metadata": {},
   "outputs": [],
   "source": [
    "bins = [0,2500,4000,6000,8000,10000,20000,40000,81000]\n",
    "group = ['low','average','medium','h1','h2','h3','h4','very high']"
   ]
  },
  {
   "cell_type": "code",
   "execution_count": 33,
   "id": "29ce68fe",
   "metadata": {},
   "outputs": [],
   "source": [
    "data['Income_bin'] = pd.cut(data['ApplicantIncome'],bins,labels = group)"
   ]
  },
  {
   "cell_type": "code",
   "execution_count": 34,
   "id": "afb387c7",
   "metadata": {},
   "outputs": [
    {
     "data": {
      "text/html": [
       "<div>\n",
       "<style scoped>\n",
       "    .dataframe tbody tr th:only-of-type {\n",
       "        vertical-align: middle;\n",
       "    }\n",
       "\n",
       "    .dataframe tbody tr th {\n",
       "        vertical-align: top;\n",
       "    }\n",
       "\n",
       "    .dataframe thead th {\n",
       "        text-align: right;\n",
       "    }\n",
       "</style>\n",
       "<table border=\"1\" class=\"dataframe\">\n",
       "  <thead>\n",
       "    <tr style=\"text-align: right;\">\n",
       "      <th></th>\n",
       "      <th>Gender</th>\n",
       "      <th>Married</th>\n",
       "      <th>Dependents</th>\n",
       "      <th>Education</th>\n",
       "      <th>Self_Employed</th>\n",
       "      <th>ApplicantIncome</th>\n",
       "      <th>CoapplicantIncome</th>\n",
       "      <th>LoanAmount</th>\n",
       "      <th>Loan_Amount_Term</th>\n",
       "      <th>Credit_History</th>\n",
       "      <th>Property_Area</th>\n",
       "      <th>Loan_Status</th>\n",
       "      <th>Income_bin</th>\n",
       "    </tr>\n",
       "  </thead>\n",
       "  <tbody>\n",
       "    <tr>\n",
       "      <th>0</th>\n",
       "      <td>Male</td>\n",
       "      <td>No</td>\n",
       "      <td>0</td>\n",
       "      <td>Graduate</td>\n",
       "      <td>No</td>\n",
       "      <td>5849</td>\n",
       "      <td>0.0</td>\n",
       "      <td>NaN</td>\n",
       "      <td>360.0</td>\n",
       "      <td>1.0</td>\n",
       "      <td>Urban</td>\n",
       "      <td>Y</td>\n",
       "      <td>medium</td>\n",
       "    </tr>\n",
       "    <tr>\n",
       "      <th>1</th>\n",
       "      <td>Male</td>\n",
       "      <td>Yes</td>\n",
       "      <td>1</td>\n",
       "      <td>Graduate</td>\n",
       "      <td>No</td>\n",
       "      <td>4583</td>\n",
       "      <td>1508.0</td>\n",
       "      <td>128.0</td>\n",
       "      <td>360.0</td>\n",
       "      <td>1.0</td>\n",
       "      <td>Rural</td>\n",
       "      <td>N</td>\n",
       "      <td>medium</td>\n",
       "    </tr>\n",
       "    <tr>\n",
       "      <th>2</th>\n",
       "      <td>Male</td>\n",
       "      <td>Yes</td>\n",
       "      <td>0</td>\n",
       "      <td>Graduate</td>\n",
       "      <td>Yes</td>\n",
       "      <td>3000</td>\n",
       "      <td>0.0</td>\n",
       "      <td>66.0</td>\n",
       "      <td>360.0</td>\n",
       "      <td>1.0</td>\n",
       "      <td>Urban</td>\n",
       "      <td>Y</td>\n",
       "      <td>average</td>\n",
       "    </tr>\n",
       "    <tr>\n",
       "      <th>3</th>\n",
       "      <td>Male</td>\n",
       "      <td>Yes</td>\n",
       "      <td>0</td>\n",
       "      <td>Not Graduate</td>\n",
       "      <td>No</td>\n",
       "      <td>2583</td>\n",
       "      <td>2358.0</td>\n",
       "      <td>120.0</td>\n",
       "      <td>360.0</td>\n",
       "      <td>1.0</td>\n",
       "      <td>Urban</td>\n",
       "      <td>Y</td>\n",
       "      <td>average</td>\n",
       "    </tr>\n",
       "    <tr>\n",
       "      <th>4</th>\n",
       "      <td>Male</td>\n",
       "      <td>No</td>\n",
       "      <td>0</td>\n",
       "      <td>Graduate</td>\n",
       "      <td>No</td>\n",
       "      <td>6000</td>\n",
       "      <td>0.0</td>\n",
       "      <td>141.0</td>\n",
       "      <td>360.0</td>\n",
       "      <td>1.0</td>\n",
       "      <td>Urban</td>\n",
       "      <td>Y</td>\n",
       "      <td>medium</td>\n",
       "    </tr>\n",
       "  </tbody>\n",
       "</table>\n",
       "</div>"
      ],
      "text/plain": [
       "  Gender Married Dependents     Education Self_Employed  ApplicantIncome  \\\n",
       "0   Male      No          0      Graduate            No             5849   \n",
       "1   Male     Yes          1      Graduate            No             4583   \n",
       "2   Male     Yes          0      Graduate           Yes             3000   \n",
       "3   Male     Yes          0  Not Graduate            No             2583   \n",
       "4   Male      No          0      Graduate            No             6000   \n",
       "\n",
       "   CoapplicantIncome  LoanAmount  Loan_Amount_Term  Credit_History  \\\n",
       "0                0.0         NaN             360.0             1.0   \n",
       "1             1508.0       128.0             360.0             1.0   \n",
       "2                0.0        66.0             360.0             1.0   \n",
       "3             2358.0       120.0             360.0             1.0   \n",
       "4                0.0       141.0             360.0             1.0   \n",
       "\n",
       "  Property_Area Loan_Status Income_bin  \n",
       "0         Urban           Y     medium  \n",
       "1         Rural           N     medium  \n",
       "2         Urban           Y    average  \n",
       "3         Urban           Y    average  \n",
       "4         Urban           Y     medium  "
      ]
     },
     "execution_count": 34,
     "metadata": {},
     "output_type": "execute_result"
    }
   ],
   "source": [
    "data.head()"
   ]
  },
  {
   "cell_type": "code",
   "execution_count": 35,
   "id": "4ae54549",
   "metadata": {},
   "outputs": [
    {
     "data": {
      "text/html": [
       "<div>\n",
       "<style scoped>\n",
       "    .dataframe tbody tr th:only-of-type {\n",
       "        vertical-align: middle;\n",
       "    }\n",
       "\n",
       "    .dataframe tbody tr th {\n",
       "        vertical-align: top;\n",
       "    }\n",
       "\n",
       "    .dataframe thead th {\n",
       "        text-align: right;\n",
       "    }\n",
       "</style>\n",
       "<table border=\"1\" class=\"dataframe\">\n",
       "  <thead>\n",
       "    <tr style=\"text-align: right;\">\n",
       "      <th>Loan_Status</th>\n",
       "      <th>N</th>\n",
       "      <th>Y</th>\n",
       "    </tr>\n",
       "    <tr>\n",
       "      <th>Income_bin</th>\n",
       "      <th></th>\n",
       "      <th></th>\n",
       "    </tr>\n",
       "  </thead>\n",
       "  <tbody>\n",
       "    <tr>\n",
       "      <th>low</th>\n",
       "      <td>34</td>\n",
       "      <td>74</td>\n",
       "    </tr>\n",
       "    <tr>\n",
       "      <th>average</th>\n",
       "      <td>67</td>\n",
       "      <td>159</td>\n",
       "    </tr>\n",
       "    <tr>\n",
       "      <th>medium</th>\n",
       "      <td>45</td>\n",
       "      <td>98</td>\n",
       "    </tr>\n",
       "    <tr>\n",
       "      <th>h1</th>\n",
       "      <td>20</td>\n",
       "      <td>34</td>\n",
       "    </tr>\n",
       "    <tr>\n",
       "      <th>h2</th>\n",
       "      <td>9</td>\n",
       "      <td>22</td>\n",
       "    </tr>\n",
       "    <tr>\n",
       "      <th>h3</th>\n",
       "      <td>13</td>\n",
       "      <td>27</td>\n",
       "    </tr>\n",
       "    <tr>\n",
       "      <th>h4</th>\n",
       "      <td>3</td>\n",
       "      <td>6</td>\n",
       "    </tr>\n",
       "    <tr>\n",
       "      <th>very high</th>\n",
       "      <td>1</td>\n",
       "      <td>2</td>\n",
       "    </tr>\n",
       "  </tbody>\n",
       "</table>\n",
       "</div>"
      ],
      "text/plain": [
       "Loan_Status   N    Y\n",
       "Income_bin          \n",
       "low          34   74\n",
       "average      67  159\n",
       "medium       45   98\n",
       "h1           20   34\n",
       "h2            9   22\n",
       "h3           13   27\n",
       "h4            3    6\n",
       "very high     1    2"
      ]
     },
     "execution_count": 35,
     "metadata": {},
     "output_type": "execute_result"
    }
   ],
   "source": [
    "pd.crosstab(data['Income_bin'],data['Loan_Status'])"
   ]
  },
  {
   "cell_type": "code",
   "execution_count": 36,
   "id": "47a59b90",
   "metadata": {},
   "outputs": [],
   "source": [
    "from scipy.stats import chi2_contingency"
   ]
  },
  {
   "cell_type": "code",
   "execution_count": 37,
   "id": "fb6d6aa1",
   "metadata": {},
   "outputs": [],
   "source": [
    "vals = pd.crosstab(data['Income_bin'],data['Loan_Status'])"
   ]
  },
  {
   "cell_type": "code",
   "execution_count": 38,
   "id": "4776a430",
   "metadata": {},
   "outputs": [
    {
     "data": {
      "text/plain": [
       "Chi2ContingencyResult(statistic=1.2420001711303135, pvalue=0.9899274842922701, dof=7, expected_freq=array([[ 33.77198697,  74.22801303],\n",
       "       [ 70.67100977, 155.32899023],\n",
       "       [ 44.71661238,  98.28338762],\n",
       "       [ 16.88599349,  37.11400651],\n",
       "       [  9.69381107,  21.30618893],\n",
       "       [ 12.50814332,  27.49185668],\n",
       "       [  2.81433225,   6.18566775],\n",
       "       [  0.93811075,   2.06188925]]))"
      ]
     },
     "execution_count": 38,
     "metadata": {},
     "output_type": "execute_result"
    }
   ],
   "source": [
    "chi2_contingency(vals)"
   ]
  },
  {
   "cell_type": "code",
   "execution_count": 39,
   "id": "040acd1b",
   "metadata": {},
   "outputs": [],
   "source": [
    "# Since p_value is very high. we are failed to reject the H0 here as well\n",
    "# They are not related"
   ]
  },
  {
   "cell_type": "code",
   "execution_count": 40,
   "id": "606c0340",
   "metadata": {},
   "outputs": [],
   "source": [
    "# Let's do it visually\n",
    "Income_bin = pd.crosstab(data['Income_bin'],data['Loan_Status'])"
   ]
  },
  {
   "cell_type": "code",
   "execution_count": 41,
   "id": "4775e423",
   "metadata": {},
   "outputs": [
    {
     "data": {
      "image/png": "[encoded data removed]",
      "text/plain": [
       "<Figure size 400x400 with 1 Axes>"
      ]
     },
     "metadata": {},
     "output_type": "display_data"
    }
   ],
   "source": [
    "Income_bin.div(Income_bin.sum(axis=1),axis=0).plot(kind='bar',figsize = (4,4))\n",
    "plt.xlabel('ApplicantIncome')\n",
    "plt.ylabel('Percentage')\n",
    "plt.show()"
   ]
  },
  {
   "cell_type": "code",
   "execution_count": 42,
   "id": "4bacf5c1",
   "metadata": {},
   "outputs": [],
   "source": [
    "# This is counter intutive we thought the higher the income is, the more the chance is that we get loan. But that is clearly not the case here"
   ]
  },
  {
   "cell_type": "code",
   "execution_count": 43,
   "id": "ccce591b",
   "metadata": {},
   "outputs": [],
   "source": [
    "# Let's create a new feature"
   ]
  },
  {
   "cell_type": "code",
   "execution_count": 44,
   "id": "7aabd4cc",
   "metadata": {},
   "outputs": [],
   "source": [
    "data['Total_Income'] = data['ApplicantIncome'] + data['CoapplicantIncome']"
   ]
  },
  {
   "cell_type": "code",
   "execution_count": 45,
   "id": "09027aea",
   "metadata": {},
   "outputs": [
    {
     "data": {
      "text/html": [
       "<div>\n",
       "<style scoped>\n",
       "    .dataframe tbody tr th:only-of-type {\n",
       "        vertical-align: middle;\n",
       "    }\n",
       "\n",
       "    .dataframe tbody tr th {\n",
       "        vertical-align: top;\n",
       "    }\n",
       "\n",
       "    .dataframe thead th {\n",
       "        text-align: right;\n",
       "    }\n",
       "</style>\n",
       "<table border=\"1\" class=\"dataframe\">\n",
       "  <thead>\n",
       "    <tr style=\"text-align: right;\">\n",
       "      <th></th>\n",
       "      <th>Gender</th>\n",
       "      <th>Married</th>\n",
       "      <th>Dependents</th>\n",
       "      <th>Education</th>\n",
       "      <th>Self_Employed</th>\n",
       "      <th>ApplicantIncome</th>\n",
       "      <th>CoapplicantIncome</th>\n",
       "      <th>LoanAmount</th>\n",
       "      <th>Loan_Amount_Term</th>\n",
       "      <th>Credit_History</th>\n",
       "      <th>Property_Area</th>\n",
       "      <th>Loan_Status</th>\n",
       "      <th>Income_bin</th>\n",
       "      <th>Total_Income</th>\n",
       "    </tr>\n",
       "  </thead>\n",
       "  <tbody>\n",
       "    <tr>\n",
       "      <th>0</th>\n",
       "      <td>Male</td>\n",
       "      <td>No</td>\n",
       "      <td>0</td>\n",
       "      <td>Graduate</td>\n",
       "      <td>No</td>\n",
       "      <td>5849</td>\n",
       "      <td>0.0</td>\n",
       "      <td>NaN</td>\n",
       "      <td>360.0</td>\n",
       "      <td>1.0</td>\n",
       "      <td>Urban</td>\n",
       "      <td>Y</td>\n",
       "      <td>medium</td>\n",
       "      <td>5849.0</td>\n",
       "    </tr>\n",
       "    <tr>\n",
       "      <th>1</th>\n",
       "      <td>Male</td>\n",
       "      <td>Yes</td>\n",
       "      <td>1</td>\n",
       "      <td>Graduate</td>\n",
       "      <td>No</td>\n",
       "      <td>4583</td>\n",
       "      <td>1508.0</td>\n",
       "      <td>128.0</td>\n",
       "      <td>360.0</td>\n",
       "      <td>1.0</td>\n",
       "      <td>Rural</td>\n",
       "      <td>N</td>\n",
       "      <td>medium</td>\n",
       "      <td>6091.0</td>\n",
       "    </tr>\n",
       "    <tr>\n",
       "      <th>2</th>\n",
       "      <td>Male</td>\n",
       "      <td>Yes</td>\n",
       "      <td>0</td>\n",
       "      <td>Graduate</td>\n",
       "      <td>Yes</td>\n",
       "      <td>3000</td>\n",
       "      <td>0.0</td>\n",
       "      <td>66.0</td>\n",
       "      <td>360.0</td>\n",
       "      <td>1.0</td>\n",
       "      <td>Urban</td>\n",
       "      <td>Y</td>\n",
       "      <td>average</td>\n",
       "      <td>3000.0</td>\n",
       "    </tr>\n",
       "    <tr>\n",
       "      <th>3</th>\n",
       "      <td>Male</td>\n",
       "      <td>Yes</td>\n",
       "      <td>0</td>\n",
       "      <td>Not Graduate</td>\n",
       "      <td>No</td>\n",
       "      <td>2583</td>\n",
       "      <td>2358.0</td>\n",
       "      <td>120.0</td>\n",
       "      <td>360.0</td>\n",
       "      <td>1.0</td>\n",
       "      <td>Urban</td>\n",
       "      <td>Y</td>\n",
       "      <td>average</td>\n",
       "      <td>4941.0</td>\n",
       "    </tr>\n",
       "    <tr>\n",
       "      <th>4</th>\n",
       "      <td>Male</td>\n",
       "      <td>No</td>\n",
       "      <td>0</td>\n",
       "      <td>Graduate</td>\n",
       "      <td>No</td>\n",
       "      <td>6000</td>\n",
       "      <td>0.0</td>\n",
       "      <td>141.0</td>\n",
       "      <td>360.0</td>\n",
       "      <td>1.0</td>\n",
       "      <td>Urban</td>\n",
       "      <td>Y</td>\n",
       "      <td>medium</td>\n",
       "      <td>6000.0</td>\n",
       "    </tr>\n",
       "  </tbody>\n",
       "</table>\n",
       "</div>"
      ],
      "text/plain": [
       "  Gender Married Dependents     Education Self_Employed  ApplicantIncome  \\\n",
       "0   Male      No          0      Graduate            No             5849   \n",
       "1   Male     Yes          1      Graduate            No             4583   \n",
       "2   Male     Yes          0      Graduate           Yes             3000   \n",
       "3   Male     Yes          0  Not Graduate            No             2583   \n",
       "4   Male      No          0      Graduate            No             6000   \n",
       "\n",
       "   CoapplicantIncome  LoanAmount  Loan_Amount_Term  Credit_History  \\\n",
       "0                0.0         NaN             360.0             1.0   \n",
       "1             1508.0       128.0             360.0             1.0   \n",
       "2                0.0        66.0             360.0             1.0   \n",
       "3             2358.0       120.0             360.0             1.0   \n",
       "4                0.0       141.0             360.0             1.0   \n",
       "\n",
       "  Property_Area Loan_Status Income_bin  Total_Income  \n",
       "0         Urban           Y     medium        5849.0  \n",
       "1         Rural           N     medium        6091.0  \n",
       "2         Urban           Y    average        3000.0  \n",
       "3         Urban           Y    average        4941.0  \n",
       "4         Urban           Y     medium        6000.0  "
      ]
     },
     "execution_count": 45,
     "metadata": {},
     "output_type": "execute_result"
    }
   ],
   "source": [
    "data.head()"
   ]
  },
  {
   "cell_type": "code",
   "execution_count": 46,
   "id": "0c7cecf8",
   "metadata": {},
   "outputs": [],
   "source": [
    "# Maybe Loan is depend upon total Income"
   ]
  },
  {
   "cell_type": "code",
   "execution_count": 47,
   "id": "84353ff7",
   "metadata": {},
   "outputs": [],
   "source": [
    "bins = [0,3000,5000,8000,81000]\n",
    "group = ['low','average','high','very high']"
   ]
  },
  {
   "cell_type": "code",
   "execution_count": 48,
   "id": "8cc73596",
   "metadata": {},
   "outputs": [],
   "source": [
    "data['Total_Income_bin'] = pd.cut(data['Total_Income'],bins,labels = group)"
   ]
  },
  {
   "cell_type": "code",
   "execution_count": 49,
   "id": "84d86eb2",
   "metadata": {},
   "outputs": [
    {
     "data": {
      "text/html": [
       "<div>\n",
       "<style scoped>\n",
       "    .dataframe tbody tr th:only-of-type {\n",
       "        vertical-align: middle;\n",
       "    }\n",
       "\n",
       "    .dataframe tbody tr th {\n",
       "        vertical-align: top;\n",
       "    }\n",
       "\n",
       "    .dataframe thead th {\n",
       "        text-align: right;\n",
       "    }\n",
       "</style>\n",
       "<table border=\"1\" class=\"dataframe\">\n",
       "  <thead>\n",
       "    <tr style=\"text-align: right;\">\n",
       "      <th></th>\n",
       "      <th>Gender</th>\n",
       "      <th>Married</th>\n",
       "      <th>Dependents</th>\n",
       "      <th>Education</th>\n",
       "      <th>Self_Employed</th>\n",
       "      <th>ApplicantIncome</th>\n",
       "      <th>CoapplicantIncome</th>\n",
       "      <th>LoanAmount</th>\n",
       "      <th>Loan_Amount_Term</th>\n",
       "      <th>Credit_History</th>\n",
       "      <th>Property_Area</th>\n",
       "      <th>Loan_Status</th>\n",
       "      <th>Income_bin</th>\n",
       "      <th>Total_Income</th>\n",
       "      <th>Total_Income_bin</th>\n",
       "    </tr>\n",
       "  </thead>\n",
       "  <tbody>\n",
       "    <tr>\n",
       "      <th>0</th>\n",
       "      <td>Male</td>\n",
       "      <td>No</td>\n",
       "      <td>0</td>\n",
       "      <td>Graduate</td>\n",
       "      <td>No</td>\n",
       "      <td>5849</td>\n",
       "      <td>0.0</td>\n",
       "      <td>NaN</td>\n",
       "      <td>360.0</td>\n",
       "      <td>1.0</td>\n",
       "      <td>Urban</td>\n",
       "      <td>Y</td>\n",
       "      <td>medium</td>\n",
       "      <td>5849.0</td>\n",
       "      <td>high</td>\n",
       "    </tr>\n",
       "    <tr>\n",
       "      <th>1</th>\n",
       "      <td>Male</td>\n",
       "      <td>Yes</td>\n",
       "      <td>1</td>\n",
       "      <td>Graduate</td>\n",
       "      <td>No</td>\n",
       "      <td>4583</td>\n",
       "      <td>1508.0</td>\n",
       "      <td>128.0</td>\n",
       "      <td>360.0</td>\n",
       "      <td>1.0</td>\n",
       "      <td>Rural</td>\n",
       "      <td>N</td>\n",
       "      <td>medium</td>\n",
       "      <td>6091.0</td>\n",
       "      <td>high</td>\n",
       "    </tr>\n",
       "    <tr>\n",
       "      <th>2</th>\n",
       "      <td>Male</td>\n",
       "      <td>Yes</td>\n",
       "      <td>0</td>\n",
       "      <td>Graduate</td>\n",
       "      <td>Yes</td>\n",
       "      <td>3000</td>\n",
       "      <td>0.0</td>\n",
       "      <td>66.0</td>\n",
       "      <td>360.0</td>\n",
       "      <td>1.0</td>\n",
       "      <td>Urban</td>\n",
       "      <td>Y</td>\n",
       "      <td>average</td>\n",
       "      <td>3000.0</td>\n",
       "      <td>low</td>\n",
       "    </tr>\n",
       "    <tr>\n",
       "      <th>3</th>\n",
       "      <td>Male</td>\n",
       "      <td>Yes</td>\n",
       "      <td>0</td>\n",
       "      <td>Not Graduate</td>\n",
       "      <td>No</td>\n",
       "      <td>2583</td>\n",
       "      <td>2358.0</td>\n",
       "      <td>120.0</td>\n",
       "      <td>360.0</td>\n",
       "      <td>1.0</td>\n",
       "      <td>Urban</td>\n",
       "      <td>Y</td>\n",
       "      <td>average</td>\n",
       "      <td>4941.0</td>\n",
       "      <td>average</td>\n",
       "    </tr>\n",
       "    <tr>\n",
       "      <th>4</th>\n",
       "      <td>Male</td>\n",
       "      <td>No</td>\n",
       "      <td>0</td>\n",
       "      <td>Graduate</td>\n",
       "      <td>No</td>\n",
       "      <td>6000</td>\n",
       "      <td>0.0</td>\n",
       "      <td>141.0</td>\n",
       "      <td>360.0</td>\n",
       "      <td>1.0</td>\n",
       "      <td>Urban</td>\n",
       "      <td>Y</td>\n",
       "      <td>medium</td>\n",
       "      <td>6000.0</td>\n",
       "      <td>high</td>\n",
       "    </tr>\n",
       "  </tbody>\n",
       "</table>\n",
       "</div>"
      ],
      "text/plain": [
       "  Gender Married Dependents     Education Self_Employed  ApplicantIncome  \\\n",
       "0   Male      No          0      Graduate            No             5849   \n",
       "1   Male     Yes          1      Graduate            No             4583   \n",
       "2   Male     Yes          0      Graduate           Yes             3000   \n",
       "3   Male     Yes          0  Not Graduate            No             2583   \n",
       "4   Male      No          0      Graduate            No             6000   \n",
       "\n",
       "   CoapplicantIncome  LoanAmount  Loan_Amount_Term  Credit_History  \\\n",
       "0                0.0         NaN             360.0             1.0   \n",
       "1             1508.0       128.0             360.0             1.0   \n",
       "2                0.0        66.0             360.0             1.0   \n",
       "3             2358.0       120.0             360.0             1.0   \n",
       "4                0.0       141.0             360.0             1.0   \n",
       "\n",
       "  Property_Area Loan_Status Income_bin  Total_Income Total_Income_bin  \n",
       "0         Urban           Y     medium        5849.0             high  \n",
       "1         Rural           N     medium        6091.0             high  \n",
       "2         Urban           Y    average        3000.0              low  \n",
       "3         Urban           Y    average        4941.0          average  \n",
       "4         Urban           Y     medium        6000.0             high  "
      ]
     },
     "execution_count": 49,
     "metadata": {},
     "output_type": "execute_result"
    }
   ],
   "source": [
    "data.head()"
   ]
  },
  {
   "cell_type": "code",
   "execution_count": 50,
   "id": "b6e7ad1d",
   "metadata": {},
   "outputs": [
    {
     "data": {
      "text/html": [
       "<div>\n",
       "<style scoped>\n",
       "    .dataframe tbody tr th:only-of-type {\n",
       "        vertical-align: middle;\n",
       "    }\n",
       "\n",
       "    .dataframe tbody tr th {\n",
       "        vertical-align: top;\n",
       "    }\n",
       "\n",
       "    .dataframe thead th {\n",
       "        text-align: right;\n",
       "    }\n",
       "</style>\n",
       "<table border=\"1\" class=\"dataframe\">\n",
       "  <thead>\n",
       "    <tr style=\"text-align: right;\">\n",
       "      <th>Loan_Status</th>\n",
       "      <th>N</th>\n",
       "      <th>Y</th>\n",
       "    </tr>\n",
       "    <tr>\n",
       "      <th>Total_Income_bin</th>\n",
       "      <th></th>\n",
       "      <th></th>\n",
       "    </tr>\n",
       "  </thead>\n",
       "  <tbody>\n",
       "    <tr>\n",
       "      <th>low</th>\n",
       "      <td>20</td>\n",
       "      <td>27</td>\n",
       "    </tr>\n",
       "    <tr>\n",
       "      <th>average</th>\n",
       "      <td>69</td>\n",
       "      <td>154</td>\n",
       "    </tr>\n",
       "    <tr>\n",
       "      <th>high</th>\n",
       "      <td>61</td>\n",
       "      <td>151</td>\n",
       "    </tr>\n",
       "    <tr>\n",
       "      <th>very high</th>\n",
       "      <td>42</td>\n",
       "      <td>90</td>\n",
       "    </tr>\n",
       "  </tbody>\n",
       "</table>\n",
       "</div>"
      ],
      "text/plain": [
       "Loan_Status        N    Y\n",
       "Total_Income_bin         \n",
       "low               20   27\n",
       "average           69  154\n",
       "high              61  151\n",
       "very high         42   90"
      ]
     },
     "execution_count": 50,
     "metadata": {},
     "output_type": "execute_result"
    }
   ],
   "source": [
    "pd.crosstab(data['Total_Income_bin'],data['Loan_Status'])"
   ]
  },
  {
   "cell_type": "code",
   "execution_count": 51,
   "id": "ed33ebaf",
   "metadata": {},
   "outputs": [],
   "source": [
    "# Is this difference statistically significant?\n",
    "vals = pd.crosstab(data['Total_Income_bin'],data['Loan_Status'])"
   ]
  },
  {
   "cell_type": "code",
   "execution_count": 52,
   "id": "1dd39d09",
   "metadata": {},
   "outputs": [
    {
     "data": {
      "text/plain": [
       "Chi2ContingencyResult(statistic=3.428480885250809, pvalue=0.3301570564076713, dof=3, expected_freq=array([[ 14.6970684 ,  32.3029316 ],\n",
       "       [ 69.73289902, 153.26710098],\n",
       "       [ 66.29315961, 145.70684039],\n",
       "       [ 41.27687296,  90.72312704]]))"
      ]
     },
     "execution_count": 52,
     "metadata": {},
     "output_type": "execute_result"
    }
   ],
   "source": [
    "chi2_contingency(vals)"
   ]
  },
  {
   "cell_type": "code",
   "execution_count": 53,
   "id": "dc12e875",
   "metadata": {},
   "outputs": [],
   "source": [
    "# p_value is high. That means they are still not related somehow"
   ]
  },
  {
   "cell_type": "code",
   "execution_count": 54,
   "id": "0b9a8500",
   "metadata": {},
   "outputs": [],
   "source": [
    "# Let's do some analysis based on loan amount terms"
   ]
  },
  {
   "cell_type": "code",
   "execution_count": 55,
   "id": "8ff8cbf3",
   "metadata": {},
   "outputs": [
    {
     "data": {
      "text/plain": [
       "Loan_Amount_Term\n",
       "360.0    512\n",
       "180.0     44\n",
       "480.0     15\n",
       "300.0     13\n",
       "240.0      4\n",
       "84.0       4\n",
       "120.0      3\n",
       "60.0       2\n",
       "36.0       2\n",
       "12.0       1\n",
       "Name: count, dtype: int64"
      ]
     },
     "execution_count": 55,
     "metadata": {},
     "output_type": "execute_result"
    }
   ],
   "source": [
    "data['Loan_Amount_Term'].value_counts()"
   ]
  },
  {
   "cell_type": "code",
   "execution_count": 56,
   "id": "118a7393",
   "metadata": {},
   "outputs": [],
   "source": [
    "# Let's take loan amount terms in years instead of months\n",
    "\n",
    "data['Loan_Amount_Term'] = (data['Loan_Amount_Term']/12).astype('float')"
   ]
  },
  {
   "cell_type": "code",
   "execution_count": 57,
   "id": "e378e264",
   "metadata": {},
   "outputs": [
    {
     "data": {
      "text/html": [
       "<div>\n",
       "<style scoped>\n",
       "    .dataframe tbody tr th:only-of-type {\n",
       "        vertical-align: middle;\n",
       "    }\n",
       "\n",
       "    .dataframe tbody tr th {\n",
       "        vertical-align: top;\n",
       "    }\n",
       "\n",
       "    .dataframe thead th {\n",
       "        text-align: right;\n",
       "    }\n",
       "</style>\n",
       "<table border=\"1\" class=\"dataframe\">\n",
       "  <thead>\n",
       "    <tr style=\"text-align: right;\">\n",
       "      <th></th>\n",
       "      <th>Gender</th>\n",
       "      <th>Married</th>\n",
       "      <th>Dependents</th>\n",
       "      <th>Education</th>\n",
       "      <th>Self_Employed</th>\n",
       "      <th>ApplicantIncome</th>\n",
       "      <th>CoapplicantIncome</th>\n",
       "      <th>LoanAmount</th>\n",
       "      <th>Loan_Amount_Term</th>\n",
       "      <th>Credit_History</th>\n",
       "      <th>Property_Area</th>\n",
       "      <th>Loan_Status</th>\n",
       "      <th>Income_bin</th>\n",
       "      <th>Total_Income</th>\n",
       "      <th>Total_Income_bin</th>\n",
       "    </tr>\n",
       "  </thead>\n",
       "  <tbody>\n",
       "    <tr>\n",
       "      <th>0</th>\n",
       "      <td>Male</td>\n",
       "      <td>No</td>\n",
       "      <td>0</td>\n",
       "      <td>Graduate</td>\n",
       "      <td>No</td>\n",
       "      <td>5849</td>\n",
       "      <td>0.0</td>\n",
       "      <td>NaN</td>\n",
       "      <td>30.0</td>\n",
       "      <td>1.0</td>\n",
       "      <td>Urban</td>\n",
       "      <td>Y</td>\n",
       "      <td>medium</td>\n",
       "      <td>5849.0</td>\n",
       "      <td>high</td>\n",
       "    </tr>\n",
       "    <tr>\n",
       "      <th>1</th>\n",
       "      <td>Male</td>\n",
       "      <td>Yes</td>\n",
       "      <td>1</td>\n",
       "      <td>Graduate</td>\n",
       "      <td>No</td>\n",
       "      <td>4583</td>\n",
       "      <td>1508.0</td>\n",
       "      <td>128.0</td>\n",
       "      <td>30.0</td>\n",
       "      <td>1.0</td>\n",
       "      <td>Rural</td>\n",
       "      <td>N</td>\n",
       "      <td>medium</td>\n",
       "      <td>6091.0</td>\n",
       "      <td>high</td>\n",
       "    </tr>\n",
       "    <tr>\n",
       "      <th>2</th>\n",
       "      <td>Male</td>\n",
       "      <td>Yes</td>\n",
       "      <td>0</td>\n",
       "      <td>Graduate</td>\n",
       "      <td>Yes</td>\n",
       "      <td>3000</td>\n",
       "      <td>0.0</td>\n",
       "      <td>66.0</td>\n",
       "      <td>30.0</td>\n",
       "      <td>1.0</td>\n",
       "      <td>Urban</td>\n",
       "      <td>Y</td>\n",
       "      <td>average</td>\n",
       "      <td>3000.0</td>\n",
       "      <td>low</td>\n",
       "    </tr>\n",
       "    <tr>\n",
       "      <th>3</th>\n",
       "      <td>Male</td>\n",
       "      <td>Yes</td>\n",
       "      <td>0</td>\n",
       "      <td>Not Graduate</td>\n",
       "      <td>No</td>\n",
       "      <td>2583</td>\n",
       "      <td>2358.0</td>\n",
       "      <td>120.0</td>\n",
       "      <td>30.0</td>\n",
       "      <td>1.0</td>\n",
       "      <td>Urban</td>\n",
       "      <td>Y</td>\n",
       "      <td>average</td>\n",
       "      <td>4941.0</td>\n",
       "      <td>average</td>\n",
       "    </tr>\n",
       "    <tr>\n",
       "      <th>4</th>\n",
       "      <td>Male</td>\n",
       "      <td>No</td>\n",
       "      <td>0</td>\n",
       "      <td>Graduate</td>\n",
       "      <td>No</td>\n",
       "      <td>6000</td>\n",
       "      <td>0.0</td>\n",
       "      <td>141.0</td>\n",
       "      <td>30.0</td>\n",
       "      <td>1.0</td>\n",
       "      <td>Urban</td>\n",
       "      <td>Y</td>\n",
       "      <td>medium</td>\n",
       "      <td>6000.0</td>\n",
       "      <td>high</td>\n",
       "    </tr>\n",
       "  </tbody>\n",
       "</table>\n",
       "</div>"
      ],
      "text/plain": [
       "  Gender Married Dependents     Education Self_Employed  ApplicantIncome  \\\n",
       "0   Male      No          0      Graduate            No             5849   \n",
       "1   Male     Yes          1      Graduate            No             4583   \n",
       "2   Male     Yes          0      Graduate           Yes             3000   \n",
       "3   Male     Yes          0  Not Graduate            No             2583   \n",
       "4   Male      No          0      Graduate            No             6000   \n",
       "\n",
       "   CoapplicantIncome  LoanAmount  Loan_Amount_Term  Credit_History  \\\n",
       "0                0.0         NaN              30.0             1.0   \n",
       "1             1508.0       128.0              30.0             1.0   \n",
       "2                0.0        66.0              30.0             1.0   \n",
       "3             2358.0       120.0              30.0             1.0   \n",
       "4                0.0       141.0              30.0             1.0   \n",
       "\n",
       "  Property_Area Loan_Status Income_bin  Total_Income Total_Income_bin  \n",
       "0         Urban           Y     medium        5849.0             high  \n",
       "1         Rural           N     medium        6091.0             high  \n",
       "2         Urban           Y    average        3000.0              low  \n",
       "3         Urban           Y    average        4941.0          average  \n",
       "4         Urban           Y     medium        6000.0             high  "
      ]
     },
     "execution_count": 57,
     "metadata": {},
     "output_type": "execute_result"
    }
   ],
   "source": [
    "data.head()"
   ]
  },
  {
   "cell_type": "code",
   "execution_count": 58,
   "id": "1d205128",
   "metadata": {},
   "outputs": [
    {
     "data": {
      "text/plain": [
       "<Axes: xlabel='Loan_Amount_Term', ylabel='count'>"
      ]
     },
     "execution_count": 58,
     "metadata": {},
     "output_type": "execute_result"
    },
    {
     "data": {
      "image/png": "[encoded data removed]",
      "text/plain": [
       "<Figure size 640x480 with 1 Axes>"
      ]
     },
     "metadata": {},
     "output_type": "display_data"
    }
   ],
   "source": [
    "sns.countplot(data = data , x = 'Loan_Amount_Term')"
   ]
  },
  {
   "cell_type": "code",
   "execution_count": 59,
   "id": "55ece54a",
   "metadata": {},
   "outputs": [],
   "source": [
    "# Most of them took the loan for 30 years"
   ]
  },
  {
   "cell_type": "code",
   "execution_count": 60,
   "id": "5de4ec18",
   "metadata": {},
   "outputs": [
    {
     "data": {
      "image/png": "[encoded data removed]",
      "text/plain": [
       "<Figure size 1600x500 with 2 Axes>"
      ]
     },
     "metadata": {},
     "output_type": "display_data"
    }
   ],
   "source": [
    "plt.figure(figsize = (16,5))\n",
    "plt.subplot(121)\n",
    "sns.histplot(data['LoanAmount']);\n",
    "\n",
    "plt.subplot(122)\n",
    "sns.boxplot(data = data, x = 'Loan_Status', y ='LoanAmount')\n",
    "plt.show()"
   ]
  },
  {
   "cell_type": "code",
   "execution_count": 61,
   "id": "351cc191",
   "metadata": {},
   "outputs": [],
   "source": [
    "# This is another counter intuitive.\n",
    "# There is no relation between loan amount and loan status"
   ]
  },
  {
   "cell_type": "markdown",
   "id": "46af9a8e",
   "metadata": {},
   "source": [
    "### Ability to pay EMI"
   ]
  },
  {
   "cell_type": "code",
   "execution_count": 62,
   "id": "6f14cbd3",
   "metadata": {},
   "outputs": [],
   "source": [
    "data['Loan_Amount_per_year'] = data['LoanAmount']/data['Loan_Amount_Term']"
   ]
  },
  {
   "cell_type": "code",
   "execution_count": 63,
   "id": "1f1cb4c6",
   "metadata": {},
   "outputs": [],
   "source": [
    "data['EMI'] = data['Loan_Amount_per_year']*1000/12"
   ]
  },
  {
   "cell_type": "code",
   "execution_count": 64,
   "id": "ba79751e",
   "metadata": {},
   "outputs": [
    {
     "data": {
      "text/html": [
       "<div>\n",
       "<style scoped>\n",
       "    .dataframe tbody tr th:only-of-type {\n",
       "        vertical-align: middle;\n",
       "    }\n",
       "\n",
       "    .dataframe tbody tr th {\n",
       "        vertical-align: top;\n",
       "    }\n",
       "\n",
       "    .dataframe thead th {\n",
       "        text-align: right;\n",
       "    }\n",
       "</style>\n",
       "<table border=\"1\" class=\"dataframe\">\n",
       "  <thead>\n",
       "    <tr style=\"text-align: right;\">\n",
       "      <th></th>\n",
       "      <th>Gender</th>\n",
       "      <th>Married</th>\n",
       "      <th>Dependents</th>\n",
       "      <th>Education</th>\n",
       "      <th>Self_Employed</th>\n",
       "      <th>ApplicantIncome</th>\n",
       "      <th>CoapplicantIncome</th>\n",
       "      <th>LoanAmount</th>\n",
       "      <th>Loan_Amount_Term</th>\n",
       "      <th>Credit_History</th>\n",
       "      <th>Property_Area</th>\n",
       "      <th>Loan_Status</th>\n",
       "      <th>Income_bin</th>\n",
       "      <th>Total_Income</th>\n",
       "      <th>Total_Income_bin</th>\n",
       "      <th>Loan_Amount_per_year</th>\n",
       "      <th>EMI</th>\n",
       "    </tr>\n",
       "  </thead>\n",
       "  <tbody>\n",
       "    <tr>\n",
       "      <th>0</th>\n",
       "      <td>Male</td>\n",
       "      <td>No</td>\n",
       "      <td>0</td>\n",
       "      <td>Graduate</td>\n",
       "      <td>No</td>\n",
       "      <td>5849</td>\n",
       "      <td>0.0</td>\n",
       "      <td>NaN</td>\n",
       "      <td>30.0</td>\n",
       "      <td>1.0</td>\n",
       "      <td>Urban</td>\n",
       "      <td>Y</td>\n",
       "      <td>medium</td>\n",
       "      <td>5849.0</td>\n",
       "      <td>high</td>\n",
       "      <td>NaN</td>\n",
       "      <td>NaN</td>\n",
       "    </tr>\n",
       "    <tr>\n",
       "      <th>1</th>\n",
       "      <td>Male</td>\n",
       "      <td>Yes</td>\n",
       "      <td>1</td>\n",
       "      <td>Graduate</td>\n",
       "      <td>No</td>\n",
       "      <td>4583</td>\n",
       "      <td>1508.0</td>\n",
       "      <td>128.0</td>\n",
       "      <td>30.0</td>\n",
       "      <td>1.0</td>\n",
       "      <td>Rural</td>\n",
       "      <td>N</td>\n",
       "      <td>medium</td>\n",
       "      <td>6091.0</td>\n",
       "      <td>high</td>\n",
       "      <td>4.266667</td>\n",
       "      <td>355.555556</td>\n",
       "    </tr>\n",
       "    <tr>\n",
       "      <th>2</th>\n",
       "      <td>Male</td>\n",
       "      <td>Yes</td>\n",
       "      <td>0</td>\n",
       "      <td>Graduate</td>\n",
       "      <td>Yes</td>\n",
       "      <td>3000</td>\n",
       "      <td>0.0</td>\n",
       "      <td>66.0</td>\n",
       "      <td>30.0</td>\n",
       "      <td>1.0</td>\n",
       "      <td>Urban</td>\n",
       "      <td>Y</td>\n",
       "      <td>average</td>\n",
       "      <td>3000.0</td>\n",
       "      <td>low</td>\n",
       "      <td>2.200000</td>\n",
       "      <td>183.333333</td>\n",
       "    </tr>\n",
       "    <tr>\n",
       "      <th>3</th>\n",
       "      <td>Male</td>\n",
       "      <td>Yes</td>\n",
       "      <td>0</td>\n",
       "      <td>Not Graduate</td>\n",
       "      <td>No</td>\n",
       "      <td>2583</td>\n",
       "      <td>2358.0</td>\n",
       "      <td>120.0</td>\n",
       "      <td>30.0</td>\n",
       "      <td>1.0</td>\n",
       "      <td>Urban</td>\n",
       "      <td>Y</td>\n",
       "      <td>average</td>\n",
       "      <td>4941.0</td>\n",
       "      <td>average</td>\n",
       "      <td>4.000000</td>\n",
       "      <td>333.333333</td>\n",
       "    </tr>\n",
       "    <tr>\n",
       "      <th>4</th>\n",
       "      <td>Male</td>\n",
       "      <td>No</td>\n",
       "      <td>0</td>\n",
       "      <td>Graduate</td>\n",
       "      <td>No</td>\n",
       "      <td>6000</td>\n",
       "      <td>0.0</td>\n",
       "      <td>141.0</td>\n",
       "      <td>30.0</td>\n",
       "      <td>1.0</td>\n",
       "      <td>Urban</td>\n",
       "      <td>Y</td>\n",
       "      <td>medium</td>\n",
       "      <td>6000.0</td>\n",
       "      <td>high</td>\n",
       "      <td>4.700000</td>\n",
       "      <td>391.666667</td>\n",
       "    </tr>\n",
       "  </tbody>\n",
       "</table>\n",
       "</div>"
      ],
      "text/plain": [
       "  Gender Married Dependents     Education Self_Employed  ApplicantIncome  \\\n",
       "0   Male      No          0      Graduate            No             5849   \n",
       "1   Male     Yes          1      Graduate            No             4583   \n",
       "2   Male     Yes          0      Graduate           Yes             3000   \n",
       "3   Male     Yes          0  Not Graduate            No             2583   \n",
       "4   Male      No          0      Graduate            No             6000   \n",
       "\n",
       "   CoapplicantIncome  LoanAmount  Loan_Amount_Term  Credit_History  \\\n",
       "0                0.0         NaN              30.0             1.0   \n",
       "1             1508.0       128.0              30.0             1.0   \n",
       "2                0.0        66.0              30.0             1.0   \n",
       "3             2358.0       120.0              30.0             1.0   \n",
       "4                0.0       141.0              30.0             1.0   \n",
       "\n",
       "  Property_Area Loan_Status Income_bin  Total_Income Total_Income_bin  \\\n",
       "0         Urban           Y     medium        5849.0             high   \n",
       "1         Rural           N     medium        6091.0             high   \n",
       "2         Urban           Y    average        3000.0              low   \n",
       "3         Urban           Y    average        4941.0          average   \n",
       "4         Urban           Y     medium        6000.0             high   \n",
       "\n",
       "   Loan_Amount_per_year         EMI  \n",
       "0                   NaN         NaN  \n",
       "1              4.266667  355.555556  \n",
       "2              2.200000  183.333333  \n",
       "3              4.000000  333.333333  \n",
       "4              4.700000  391.666667  "
      ]
     },
     "execution_count": 64,
     "metadata": {},
     "output_type": "execute_result"
    }
   ],
   "source": [
    "data.head()"
   ]
  },
  {
   "cell_type": "code",
   "execution_count": 65,
   "id": "092040b2",
   "metadata": {},
   "outputs": [],
   "source": [
    "# Is EMI related to its income?"
   ]
  },
  {
   "cell_type": "code",
   "execution_count": 66,
   "id": "9f9e0a9b",
   "metadata": {},
   "outputs": [],
   "source": [
    "data['Able_to_pay_EMI'] = (data['Total_Income']*0.1 > data['EMI']).astype('int')"
   ]
  },
  {
   "cell_type": "code",
   "execution_count": 67,
   "id": "6bb1e141",
   "metadata": {},
   "outputs": [
    {
     "data": {
      "text/html": [
       "<div>\n",
       "<style scoped>\n",
       "    .dataframe tbody tr th:only-of-type {\n",
       "        vertical-align: middle;\n",
       "    }\n",
       "\n",
       "    .dataframe tbody tr th {\n",
       "        vertical-align: top;\n",
       "    }\n",
       "\n",
       "    .dataframe thead th {\n",
       "        text-align: right;\n",
       "    }\n",
       "</style>\n",
       "<table border=\"1\" class=\"dataframe\">\n",
       "  <thead>\n",
       "    <tr style=\"text-align: right;\">\n",
       "      <th></th>\n",
       "      <th>Gender</th>\n",
       "      <th>Married</th>\n",
       "      <th>Dependents</th>\n",
       "      <th>Education</th>\n",
       "      <th>Self_Employed</th>\n",
       "      <th>ApplicantIncome</th>\n",
       "      <th>CoapplicantIncome</th>\n",
       "      <th>LoanAmount</th>\n",
       "      <th>Loan_Amount_Term</th>\n",
       "      <th>Credit_History</th>\n",
       "      <th>Property_Area</th>\n",
       "      <th>Loan_Status</th>\n",
       "      <th>Income_bin</th>\n",
       "      <th>Total_Income</th>\n",
       "      <th>Total_Income_bin</th>\n",
       "      <th>Loan_Amount_per_year</th>\n",
       "      <th>EMI</th>\n",
       "      <th>Able_to_pay_EMI</th>\n",
       "    </tr>\n",
       "  </thead>\n",
       "  <tbody>\n",
       "    <tr>\n",
       "      <th>0</th>\n",
       "      <td>Male</td>\n",
       "      <td>No</td>\n",
       "      <td>0</td>\n",
       "      <td>Graduate</td>\n",
       "      <td>No</td>\n",
       "      <td>5849</td>\n",
       "      <td>0.0</td>\n",
       "      <td>NaN</td>\n",
       "      <td>30.0</td>\n",
       "      <td>1.0</td>\n",
       "      <td>Urban</td>\n",
       "      <td>Y</td>\n",
       "      <td>medium</td>\n",
       "      <td>5849.0</td>\n",
       "      <td>high</td>\n",
       "      <td>NaN</td>\n",
       "      <td>NaN</td>\n",
       "      <td>0</td>\n",
       "    </tr>\n",
       "    <tr>\n",
       "      <th>1</th>\n",
       "      <td>Male</td>\n",
       "      <td>Yes</td>\n",
       "      <td>1</td>\n",
       "      <td>Graduate</td>\n",
       "      <td>No</td>\n",
       "      <td>4583</td>\n",
       "      <td>1508.0</td>\n",
       "      <td>128.0</td>\n",
       "      <td>30.0</td>\n",
       "      <td>1.0</td>\n",
       "      <td>Rural</td>\n",
       "      <td>N</td>\n",
       "      <td>medium</td>\n",
       "      <td>6091.0</td>\n",
       "      <td>high</td>\n",
       "      <td>4.266667</td>\n",
       "      <td>355.555556</td>\n",
       "      <td>1</td>\n",
       "    </tr>\n",
       "    <tr>\n",
       "      <th>2</th>\n",
       "      <td>Male</td>\n",
       "      <td>Yes</td>\n",
       "      <td>0</td>\n",
       "      <td>Graduate</td>\n",
       "      <td>Yes</td>\n",
       "      <td>3000</td>\n",
       "      <td>0.0</td>\n",
       "      <td>66.0</td>\n",
       "      <td>30.0</td>\n",
       "      <td>1.0</td>\n",
       "      <td>Urban</td>\n",
       "      <td>Y</td>\n",
       "      <td>average</td>\n",
       "      <td>3000.0</td>\n",
       "      <td>low</td>\n",
       "      <td>2.200000</td>\n",
       "      <td>183.333333</td>\n",
       "      <td>1</td>\n",
       "    </tr>\n",
       "    <tr>\n",
       "      <th>3</th>\n",
       "      <td>Male</td>\n",
       "      <td>Yes</td>\n",
       "      <td>0</td>\n",
       "      <td>Not Graduate</td>\n",
       "      <td>No</td>\n",
       "      <td>2583</td>\n",
       "      <td>2358.0</td>\n",
       "      <td>120.0</td>\n",
       "      <td>30.0</td>\n",
       "      <td>1.0</td>\n",
       "      <td>Urban</td>\n",
       "      <td>Y</td>\n",
       "      <td>average</td>\n",
       "      <td>4941.0</td>\n",
       "      <td>average</td>\n",
       "      <td>4.000000</td>\n",
       "      <td>333.333333</td>\n",
       "      <td>1</td>\n",
       "    </tr>\n",
       "    <tr>\n",
       "      <th>4</th>\n",
       "      <td>Male</td>\n",
       "      <td>No</td>\n",
       "      <td>0</td>\n",
       "      <td>Graduate</td>\n",
       "      <td>No</td>\n",
       "      <td>6000</td>\n",
       "      <td>0.0</td>\n",
       "      <td>141.0</td>\n",
       "      <td>30.0</td>\n",
       "      <td>1.0</td>\n",
       "      <td>Urban</td>\n",
       "      <td>Y</td>\n",
       "      <td>medium</td>\n",
       "      <td>6000.0</td>\n",
       "      <td>high</td>\n",
       "      <td>4.700000</td>\n",
       "      <td>391.666667</td>\n",
       "      <td>1</td>\n",
       "    </tr>\n",
       "  </tbody>\n",
       "</table>\n",
       "</div>"
      ],
      "text/plain": [
       "  Gender Married Dependents     Education Self_Employed  ApplicantIncome  \\\n",
       "0   Male      No          0      Graduate            No             5849   \n",
       "1   Male     Yes          1      Graduate            No             4583   \n",
       "2   Male     Yes          0      Graduate           Yes             3000   \n",
       "3   Male     Yes          0  Not Graduate            No             2583   \n",
       "4   Male      No          0      Graduate            No             6000   \n",
       "\n",
       "   CoapplicantIncome  LoanAmount  Loan_Amount_Term  Credit_History  \\\n",
       "0                0.0         NaN              30.0             1.0   \n",
       "1             1508.0       128.0              30.0             1.0   \n",
       "2                0.0        66.0              30.0             1.0   \n",
       "3             2358.0       120.0              30.0             1.0   \n",
       "4                0.0       141.0              30.0             1.0   \n",
       "\n",
       "  Property_Area Loan_Status Income_bin  Total_Income Total_Income_bin  \\\n",
       "0         Urban           Y     medium        5849.0             high   \n",
       "1         Rural           N     medium        6091.0             high   \n",
       "2         Urban           Y    average        3000.0              low   \n",
       "3         Urban           Y    average        4941.0          average   \n",
       "4         Urban           Y     medium        6000.0             high   \n",
       "\n",
       "   Loan_Amount_per_year         EMI  Able_to_pay_EMI  \n",
       "0                   NaN         NaN                0  \n",
       "1              4.266667  355.555556                1  \n",
       "2              2.200000  183.333333                1  \n",
       "3              4.000000  333.333333                1  \n",
       "4              4.700000  391.666667                1  "
      ]
     },
     "execution_count": 67,
     "metadata": {},
     "output_type": "execute_result"
    }
   ],
   "source": [
    "data.head()"
   ]
  },
  {
   "cell_type": "code",
   "execution_count": 68,
   "id": "f5af5400",
   "metadata": {},
   "outputs": [
    {
     "data": {
      "text/plain": [
       "<Axes: xlabel='Able_to_pay_EMI', ylabel='count'>"
      ]
     },
     "execution_count": 68,
     "metadata": {},
     "output_type": "execute_result"
    },
    {
     "data": {
      "image/png": "[encoded data removed]",
      "text/plain": [
       "<Figure size 640x480 with 1 Axes>"
      ]
     },
     "metadata": {},
     "output_type": "display_data"
    }
   ],
   "source": [
    "sns.countplot(data = data, x = 'Able_to_pay_EMI',hue = 'Loan_Status')"
   ]
  },
  {
   "cell_type": "code",
   "execution_count": 69,
   "id": "6eb8b791",
   "metadata": {},
   "outputs": [],
   "source": [
    "# Now this is Statistically significant.\n",
    "# we created this column with a very crude information"
   ]
  },
  {
   "cell_type": "code",
   "execution_count": 70,
   "id": "c8bc9b5e",
   "metadata": {},
   "outputs": [],
   "source": [
    "vals = pd.crosstab(data['Able_to_pay_EMI'],data['Loan_Status'])"
   ]
  },
  {
   "cell_type": "code",
   "execution_count": 71,
   "id": "33dbf800",
   "metadata": {},
   "outputs": [
    {
     "data": {
      "text/html": [
       "<div>\n",
       "<style scoped>\n",
       "    .dataframe tbody tr th:only-of-type {\n",
       "        vertical-align: middle;\n",
       "    }\n",
       "\n",
       "    .dataframe tbody tr th {\n",
       "        vertical-align: top;\n",
       "    }\n",
       "\n",
       "    .dataframe thead th {\n",
       "        text-align: right;\n",
       "    }\n",
       "</style>\n",
       "<table border=\"1\" class=\"dataframe\">\n",
       "  <thead>\n",
       "    <tr style=\"text-align: right;\">\n",
       "      <th>Loan_Status</th>\n",
       "      <th>N</th>\n",
       "      <th>Y</th>\n",
       "    </tr>\n",
       "    <tr>\n",
       "      <th>Able_to_pay_EMI</th>\n",
       "      <th></th>\n",
       "      <th></th>\n",
       "    </tr>\n",
       "  </thead>\n",
       "  <tbody>\n",
       "    <tr>\n",
       "      <th>0</th>\n",
       "      <td>44</td>\n",
       "      <td>48</td>\n",
       "    </tr>\n",
       "    <tr>\n",
       "      <th>1</th>\n",
       "      <td>148</td>\n",
       "      <td>374</td>\n",
       "    </tr>\n",
       "  </tbody>\n",
       "</table>\n",
       "</div>"
      ],
      "text/plain": [
       "Loan_Status        N    Y\n",
       "Able_to_pay_EMI          \n",
       "0                 44   48\n",
       "1                148  374"
      ]
     },
     "execution_count": 71,
     "metadata": {},
     "output_type": "execute_result"
    }
   ],
   "source": [
    "vals"
   ]
  },
  {
   "cell_type": "code",
   "execution_count": 72,
   "id": "6e7c78fc",
   "metadata": {},
   "outputs": [
    {
     "data": {
      "text/plain": [
       "Chi2ContingencyResult(statistic=12.909621328812786, pvalue=0.00032689742066716434, dof=1, expected_freq=array([[ 28.76872964,  63.23127036],\n",
       "       [163.23127036, 358.76872964]]))"
      ]
     },
     "execution_count": 72,
     "metadata": {},
     "output_type": "execute_result"
    }
   ],
   "source": [
    "chi2_contingency(vals)"
   ]
  },
  {
   "cell_type": "code",
   "execution_count": 73,
   "id": "6735e965",
   "metadata": {},
   "outputs": [],
   "source": [
    "# since p_value is low here\n",
    "# we can say this is statistically significant\n",
    "# This feature is very very very related to Loan_Status"
   ]
  },
  {
   "cell_type": "markdown",
   "id": "ee6df706",
   "metadata": {},
   "source": [
    "# Dependents"
   ]
  },
  {
   "cell_type": "code",
   "execution_count": 74,
   "id": "fb3fd1f7",
   "metadata": {},
   "outputs": [
    {
     "data": {
      "text/plain": [
       "Dependents\n",
       "0     345\n",
       "1     102\n",
       "2     101\n",
       "3+     51\n",
       "Name: count, dtype: int64"
      ]
     },
     "execution_count": 74,
     "metadata": {},
     "output_type": "execute_result"
    }
   ],
   "source": [
    "data['Dependents'].value_counts()"
   ]
  },
  {
   "cell_type": "code",
   "execution_count": 75,
   "id": "f4f178f5",
   "metadata": {},
   "outputs": [],
   "source": [
    "data['Dependents'].replace('3+',3,inplace=True)"
   ]
  },
  {
   "cell_type": "code",
   "execution_count": 76,
   "id": "b6582c19",
   "metadata": {},
   "outputs": [],
   "source": [
    "data['Dependents'] = data['Dependents'].astype('float')"
   ]
  },
  {
   "cell_type": "code",
   "execution_count": 77,
   "id": "77458173",
   "metadata": {},
   "outputs": [
    {
     "data": {
      "text/plain": [
       "Gender                    object\n",
       "Married                   object\n",
       "Dependents               float64\n",
       "Education                 object\n",
       "Self_Employed             object\n",
       "ApplicantIncome            int64\n",
       "CoapplicantIncome        float64\n",
       "LoanAmount               float64\n",
       "Loan_Amount_Term         float64\n",
       "Credit_History           float64\n",
       "Property_Area             object\n",
       "Loan_Status               object\n",
       "Income_bin              category\n",
       "Total_Income             float64\n",
       "Total_Income_bin        category\n",
       "Loan_Amount_per_year     float64\n",
       "EMI                      float64\n",
       "Able_to_pay_EMI            int32\n",
       "dtype: object"
      ]
     },
     "execution_count": 77,
     "metadata": {},
     "output_type": "execute_result"
    }
   ],
   "source": [
    "data.dtypes"
   ]
  },
  {
   "cell_type": "code",
   "execution_count": 78,
   "id": "26a0db53",
   "metadata": {},
   "outputs": [
    {
     "data": {
      "text/plain": [
       "<Axes: xlabel='Dependents', ylabel='count'>"
      ]
     },
     "execution_count": 78,
     "metadata": {},
     "output_type": "execute_result"
    },
    {
     "data": {
      "image/png": "[encoded data removed]",
      "text/plain": [
       "<Figure size 640x480 with 1 Axes>"
      ]
     },
     "metadata": {},
     "output_type": "display_data"
    }
   ],
   "source": [
    "sns.countplot(data = data, x = 'Dependents',hue = 'Loan_Status')"
   ]
  },
  {
   "cell_type": "markdown",
   "id": "940dc739",
   "metadata": {},
   "source": [
    "### Credit History"
   ]
  },
  {
   "cell_type": "code",
   "execution_count": 79,
   "id": "fae9421b",
   "metadata": {},
   "outputs": [
    {
     "data": {
      "text/plain": [
       "Credit_History\n",
       "1.0    475\n",
       "0.0     89\n",
       "Name: count, dtype: int64"
      ]
     },
     "execution_count": 79,
     "metadata": {},
     "output_type": "execute_result"
    }
   ],
   "source": [
    "data['Credit_History'].value_counts()"
   ]
  },
  {
   "cell_type": "code",
   "execution_count": 80,
   "id": "048e59fe",
   "metadata": {},
   "outputs": [],
   "source": [
    "vals = pd.crosstab(data['Credit_History'],data['Loan_Status'])"
   ]
  },
  {
   "cell_type": "code",
   "execution_count": 81,
   "id": "f4f0a62e",
   "metadata": {},
   "outputs": [
    {
     "data": {
      "text/html": [
       "<div>\n",
       "<style scoped>\n",
       "    .dataframe tbody tr th:only-of-type {\n",
       "        vertical-align: middle;\n",
       "    }\n",
       "\n",
       "    .dataframe tbody tr th {\n",
       "        vertical-align: top;\n",
       "    }\n",
       "\n",
       "    .dataframe thead th {\n",
       "        text-align: right;\n",
       "    }\n",
       "</style>\n",
       "<table border=\"1\" class=\"dataframe\">\n",
       "  <thead>\n",
       "    <tr style=\"text-align: right;\">\n",
       "      <th>Loan_Status</th>\n",
       "      <th>N</th>\n",
       "      <th>Y</th>\n",
       "    </tr>\n",
       "    <tr>\n",
       "      <th>Credit_History</th>\n",
       "      <th></th>\n",
       "      <th></th>\n",
       "    </tr>\n",
       "  </thead>\n",
       "  <tbody>\n",
       "    <tr>\n",
       "      <th>0.0</th>\n",
       "      <td>82</td>\n",
       "      <td>7</td>\n",
       "    </tr>\n",
       "    <tr>\n",
       "      <th>1.0</th>\n",
       "      <td>97</td>\n",
       "      <td>378</td>\n",
       "    </tr>\n",
       "  </tbody>\n",
       "</table>\n",
       "</div>"
      ],
      "text/plain": [
       "Loan_Status      N    Y\n",
       "Credit_History         \n",
       "0.0             82    7\n",
       "1.0             97  378"
      ]
     },
     "execution_count": 81,
     "metadata": {},
     "output_type": "execute_result"
    }
   ],
   "source": [
    "vals\n"
   ]
  },
  {
   "cell_type": "code",
   "execution_count": 82,
   "id": "a0790d9f",
   "metadata": {},
   "outputs": [
    {
     "data": {
      "text/plain": [
       "Chi2ContingencyResult(statistic=174.63729658142535, pvalue=7.184759548750746e-40, dof=1, expected_freq=array([[ 28.2464539,  60.7535461],\n",
       "       [150.7535461, 324.2464539]]))"
      ]
     },
     "execution_count": 82,
     "metadata": {},
     "output_type": "execute_result"
    }
   ],
   "source": [
    "\n",
    "chi2_contingency(vals)"
   ]
  },
  {
   "cell_type": "code",
   "execution_count": 83,
   "id": "b1e1f255",
   "metadata": {},
   "outputs": [],
   "source": [
    "# This feature is very highly related to Loan Status"
   ]
  },
  {
   "cell_type": "code",
   "execution_count": 84,
   "id": "a6a4bba6",
   "metadata": {},
   "outputs": [],
   "source": [
    "data['NewFeature'] = (data[\"ApplicantIncome\"]) + (3 * data[\"LoanAmount\"]) + (7000 * data[\"Credit_History\"])"
   ]
  },
  {
   "cell_type": "code",
   "execution_count": 85,
   "id": "c16252ff",
   "metadata": {},
   "outputs": [
    {
     "data": {
      "text/html": [
       "<div>\n",
       "<style scoped>\n",
       "    .dataframe tbody tr th:only-of-type {\n",
       "        vertical-align: middle;\n",
       "    }\n",
       "\n",
       "    .dataframe tbody tr th {\n",
       "        vertical-align: top;\n",
       "    }\n",
       "\n",
       "    .dataframe thead th {\n",
       "        text-align: right;\n",
       "    }\n",
       "</style>\n",
       "<table border=\"1\" class=\"dataframe\">\n",
       "  <thead>\n",
       "    <tr style=\"text-align: right;\">\n",
       "      <th></th>\n",
       "      <th>Gender</th>\n",
       "      <th>Married</th>\n",
       "      <th>Dependents</th>\n",
       "      <th>Education</th>\n",
       "      <th>Self_Employed</th>\n",
       "      <th>ApplicantIncome</th>\n",
       "      <th>CoapplicantIncome</th>\n",
       "      <th>LoanAmount</th>\n",
       "      <th>Loan_Amount_Term</th>\n",
       "      <th>Credit_History</th>\n",
       "      <th>Property_Area</th>\n",
       "      <th>Loan_Status</th>\n",
       "      <th>Income_bin</th>\n",
       "      <th>Total_Income</th>\n",
       "      <th>Total_Income_bin</th>\n",
       "      <th>Loan_Amount_per_year</th>\n",
       "      <th>EMI</th>\n",
       "      <th>Able_to_pay_EMI</th>\n",
       "      <th>NewFeature</th>\n",
       "    </tr>\n",
       "  </thead>\n",
       "  <tbody>\n",
       "    <tr>\n",
       "      <th>0</th>\n",
       "      <td>Male</td>\n",
       "      <td>No</td>\n",
       "      <td>0.0</td>\n",
       "      <td>Graduate</td>\n",
       "      <td>No</td>\n",
       "      <td>5849</td>\n",
       "      <td>0.0</td>\n",
       "      <td>NaN</td>\n",
       "      <td>30.0</td>\n",
       "      <td>1.0</td>\n",
       "      <td>Urban</td>\n",
       "      <td>Y</td>\n",
       "      <td>medium</td>\n",
       "      <td>5849.0</td>\n",
       "      <td>high</td>\n",
       "      <td>NaN</td>\n",
       "      <td>NaN</td>\n",
       "      <td>0</td>\n",
       "      <td>NaN</td>\n",
       "    </tr>\n",
       "    <tr>\n",
       "      <th>1</th>\n",
       "      <td>Male</td>\n",
       "      <td>Yes</td>\n",
       "      <td>1.0</td>\n",
       "      <td>Graduate</td>\n",
       "      <td>No</td>\n",
       "      <td>4583</td>\n",
       "      <td>1508.0</td>\n",
       "      <td>128.0</td>\n",
       "      <td>30.0</td>\n",
       "      <td>1.0</td>\n",
       "      <td>Rural</td>\n",
       "      <td>N</td>\n",
       "      <td>medium</td>\n",
       "      <td>6091.0</td>\n",
       "      <td>high</td>\n",
       "      <td>4.266667</td>\n",
       "      <td>355.555556</td>\n",
       "      <td>1</td>\n",
       "      <td>11967.0</td>\n",
       "    </tr>\n",
       "    <tr>\n",
       "      <th>2</th>\n",
       "      <td>Male</td>\n",
       "      <td>Yes</td>\n",
       "      <td>0.0</td>\n",
       "      <td>Graduate</td>\n",
       "      <td>Yes</td>\n",
       "      <td>3000</td>\n",
       "      <td>0.0</td>\n",
       "      <td>66.0</td>\n",
       "      <td>30.0</td>\n",
       "      <td>1.0</td>\n",
       "      <td>Urban</td>\n",
       "      <td>Y</td>\n",
       "      <td>average</td>\n",
       "      <td>3000.0</td>\n",
       "      <td>low</td>\n",
       "      <td>2.200000</td>\n",
       "      <td>183.333333</td>\n",
       "      <td>1</td>\n",
       "      <td>10198.0</td>\n",
       "    </tr>\n",
       "    <tr>\n",
       "      <th>3</th>\n",
       "      <td>Male</td>\n",
       "      <td>Yes</td>\n",
       "      <td>0.0</td>\n",
       "      <td>Not Graduate</td>\n",
       "      <td>No</td>\n",
       "      <td>2583</td>\n",
       "      <td>2358.0</td>\n",
       "      <td>120.0</td>\n",
       "      <td>30.0</td>\n",
       "      <td>1.0</td>\n",
       "      <td>Urban</td>\n",
       "      <td>Y</td>\n",
       "      <td>average</td>\n",
       "      <td>4941.0</td>\n",
       "      <td>average</td>\n",
       "      <td>4.000000</td>\n",
       "      <td>333.333333</td>\n",
       "      <td>1</td>\n",
       "      <td>9943.0</td>\n",
       "    </tr>\n",
       "    <tr>\n",
       "      <th>4</th>\n",
       "      <td>Male</td>\n",
       "      <td>No</td>\n",
       "      <td>0.0</td>\n",
       "      <td>Graduate</td>\n",
       "      <td>No</td>\n",
       "      <td>6000</td>\n",
       "      <td>0.0</td>\n",
       "      <td>141.0</td>\n",
       "      <td>30.0</td>\n",
       "      <td>1.0</td>\n",
       "      <td>Urban</td>\n",
       "      <td>Y</td>\n",
       "      <td>medium</td>\n",
       "      <td>6000.0</td>\n",
       "      <td>high</td>\n",
       "      <td>4.700000</td>\n",
       "      <td>391.666667</td>\n",
       "      <td>1</td>\n",
       "      <td>13423.0</td>\n",
       "    </tr>\n",
       "  </tbody>\n",
       "</table>\n",
       "</div>"
      ],
      "text/plain": [
       "  Gender Married  Dependents     Education Self_Employed  ApplicantIncome  \\\n",
       "0   Male      No         0.0      Graduate            No             5849   \n",
       "1   Male     Yes         1.0      Graduate            No             4583   \n",
       "2   Male     Yes         0.0      Graduate           Yes             3000   \n",
       "3   Male     Yes         0.0  Not Graduate            No             2583   \n",
       "4   Male      No         0.0      Graduate            No             6000   \n",
       "\n",
       "   CoapplicantIncome  LoanAmount  Loan_Amount_Term  Credit_History  \\\n",
       "0                0.0         NaN              30.0             1.0   \n",
       "1             1508.0       128.0              30.0             1.0   \n",
       "2                0.0        66.0              30.0             1.0   \n",
       "3             2358.0       120.0              30.0             1.0   \n",
       "4                0.0       141.0              30.0             1.0   \n",
       "\n",
       "  Property_Area Loan_Status Income_bin  Total_Income Total_Income_bin  \\\n",
       "0         Urban           Y     medium        5849.0             high   \n",
       "1         Rural           N     medium        6091.0             high   \n",
       "2         Urban           Y    average        3000.0              low   \n",
       "3         Urban           Y    average        4941.0          average   \n",
       "4         Urban           Y     medium        6000.0             high   \n",
       "\n",
       "   Loan_Amount_per_year         EMI  Able_to_pay_EMI  NewFeature  \n",
       "0                   NaN         NaN                0         NaN  \n",
       "1              4.266667  355.555556                1     11967.0  \n",
       "2              2.200000  183.333333                1     10198.0  \n",
       "3              4.000000  333.333333                1      9943.0  \n",
       "4              4.700000  391.666667                1     13423.0  "
      ]
     },
     "execution_count": 85,
     "metadata": {},
     "output_type": "execute_result"
    }
   ],
   "source": [
    "data.head()"
   ]
  },
  {
   "cell_type": "code",
   "execution_count": 86,
   "id": "dd88a719",
   "metadata": {},
   "outputs": [
    {
     "data": {
      "text/plain": [
       "11811.832412523021"
      ]
     },
     "execution_count": 86,
     "metadata": {},
     "output_type": "execute_result"
    }
   ],
   "source": [
    "mean_new_feature = data['NewFeature'].mean()\n",
    "mean_new_feature"
   ]
  },
  {
   "cell_type": "code",
   "execution_count": 87,
   "id": "a8a6ed6d",
   "metadata": {},
   "outputs": [],
   "source": [
    "data['Seperator'] = data['NewFeature']>0.25*mean_new_feature"
   ]
  },
  {
   "cell_type": "code",
   "execution_count": 88,
   "id": "7481a322",
   "metadata": {},
   "outputs": [
    {
     "data": {
      "text/html": [
       "<div>\n",
       "<style scoped>\n",
       "    .dataframe tbody tr th:only-of-type {\n",
       "        vertical-align: middle;\n",
       "    }\n",
       "\n",
       "    .dataframe tbody tr th {\n",
       "        vertical-align: top;\n",
       "    }\n",
       "\n",
       "    .dataframe thead th {\n",
       "        text-align: right;\n",
       "    }\n",
       "</style>\n",
       "<table border=\"1\" class=\"dataframe\">\n",
       "  <thead>\n",
       "    <tr style=\"text-align: right;\">\n",
       "      <th></th>\n",
       "      <th>Gender</th>\n",
       "      <th>Married</th>\n",
       "      <th>Dependents</th>\n",
       "      <th>Education</th>\n",
       "      <th>Self_Employed</th>\n",
       "      <th>ApplicantIncome</th>\n",
       "      <th>CoapplicantIncome</th>\n",
       "      <th>LoanAmount</th>\n",
       "      <th>Loan_Amount_Term</th>\n",
       "      <th>Credit_History</th>\n",
       "      <th>Property_Area</th>\n",
       "      <th>Loan_Status</th>\n",
       "      <th>Income_bin</th>\n",
       "      <th>Total_Income</th>\n",
       "      <th>Total_Income_bin</th>\n",
       "      <th>Loan_Amount_per_year</th>\n",
       "      <th>EMI</th>\n",
       "      <th>Able_to_pay_EMI</th>\n",
       "      <th>NewFeature</th>\n",
       "      <th>Seperator</th>\n",
       "    </tr>\n",
       "  </thead>\n",
       "  <tbody>\n",
       "    <tr>\n",
       "      <th>0</th>\n",
       "      <td>Male</td>\n",
       "      <td>No</td>\n",
       "      <td>0.0</td>\n",
       "      <td>Graduate</td>\n",
       "      <td>No</td>\n",
       "      <td>5849</td>\n",
       "      <td>0.0</td>\n",
       "      <td>NaN</td>\n",
       "      <td>30.0</td>\n",
       "      <td>1.0</td>\n",
       "      <td>Urban</td>\n",
       "      <td>Y</td>\n",
       "      <td>medium</td>\n",
       "      <td>5849.0</td>\n",
       "      <td>high</td>\n",
       "      <td>NaN</td>\n",
       "      <td>NaN</td>\n",
       "      <td>0</td>\n",
       "      <td>NaN</td>\n",
       "      <td>False</td>\n",
       "    </tr>\n",
       "    <tr>\n",
       "      <th>1</th>\n",
       "      <td>Male</td>\n",
       "      <td>Yes</td>\n",
       "      <td>1.0</td>\n",
       "      <td>Graduate</td>\n",
       "      <td>No</td>\n",
       "      <td>4583</td>\n",
       "      <td>1508.0</td>\n",
       "      <td>128.0</td>\n",
       "      <td>30.0</td>\n",
       "      <td>1.0</td>\n",
       "      <td>Rural</td>\n",
       "      <td>N</td>\n",
       "      <td>medium</td>\n",
       "      <td>6091.0</td>\n",
       "      <td>high</td>\n",
       "      <td>4.266667</td>\n",
       "      <td>355.555556</td>\n",
       "      <td>1</td>\n",
       "      <td>11967.0</td>\n",
       "      <td>True</td>\n",
       "    </tr>\n",
       "    <tr>\n",
       "      <th>2</th>\n",
       "      <td>Male</td>\n",
       "      <td>Yes</td>\n",
       "      <td>0.0</td>\n",
       "      <td>Graduate</td>\n",
       "      <td>Yes</td>\n",
       "      <td>3000</td>\n",
       "      <td>0.0</td>\n",
       "      <td>66.0</td>\n",
       "      <td>30.0</td>\n",
       "      <td>1.0</td>\n",
       "      <td>Urban</td>\n",
       "      <td>Y</td>\n",
       "      <td>average</td>\n",
       "      <td>3000.0</td>\n",
       "      <td>low</td>\n",
       "      <td>2.200000</td>\n",
       "      <td>183.333333</td>\n",
       "      <td>1</td>\n",
       "      <td>10198.0</td>\n",
       "      <td>True</td>\n",
       "    </tr>\n",
       "    <tr>\n",
       "      <th>3</th>\n",
       "      <td>Male</td>\n",
       "      <td>Yes</td>\n",
       "      <td>0.0</td>\n",
       "      <td>Not Graduate</td>\n",
       "      <td>No</td>\n",
       "      <td>2583</td>\n",
       "      <td>2358.0</td>\n",
       "      <td>120.0</td>\n",
       "      <td>30.0</td>\n",
       "      <td>1.0</td>\n",
       "      <td>Urban</td>\n",
       "      <td>Y</td>\n",
       "      <td>average</td>\n",
       "      <td>4941.0</td>\n",
       "      <td>average</td>\n",
       "      <td>4.000000</td>\n",
       "      <td>333.333333</td>\n",
       "      <td>1</td>\n",
       "      <td>9943.0</td>\n",
       "      <td>True</td>\n",
       "    </tr>\n",
       "    <tr>\n",
       "      <th>4</th>\n",
       "      <td>Male</td>\n",
       "      <td>No</td>\n",
       "      <td>0.0</td>\n",
       "      <td>Graduate</td>\n",
       "      <td>No</td>\n",
       "      <td>6000</td>\n",
       "      <td>0.0</td>\n",
       "      <td>141.0</td>\n",
       "      <td>30.0</td>\n",
       "      <td>1.0</td>\n",
       "      <td>Urban</td>\n",
       "      <td>Y</td>\n",
       "      <td>medium</td>\n",
       "      <td>6000.0</td>\n",
       "      <td>high</td>\n",
       "      <td>4.700000</td>\n",
       "      <td>391.666667</td>\n",
       "      <td>1</td>\n",
       "      <td>13423.0</td>\n",
       "      <td>True</td>\n",
       "    </tr>\n",
       "  </tbody>\n",
       "</table>\n",
       "</div>"
      ],
      "text/plain": [
       "  Gender Married  Dependents     Education Self_Employed  ApplicantIncome  \\\n",
       "0   Male      No         0.0      Graduate            No             5849   \n",
       "1   Male     Yes         1.0      Graduate            No             4583   \n",
       "2   Male     Yes         0.0      Graduate           Yes             3000   \n",
       "3   Male     Yes         0.0  Not Graduate            No             2583   \n",
       "4   Male      No         0.0      Graduate            No             6000   \n",
       "\n",
       "   CoapplicantIncome  LoanAmount  Loan_Amount_Term  Credit_History  \\\n",
       "0                0.0         NaN              30.0             1.0   \n",
       "1             1508.0       128.0              30.0             1.0   \n",
       "2                0.0        66.0              30.0             1.0   \n",
       "3             2358.0       120.0              30.0             1.0   \n",
       "4                0.0       141.0              30.0             1.0   \n",
       "\n",
       "  Property_Area Loan_Status Income_bin  Total_Income Total_Income_bin  \\\n",
       "0         Urban           Y     medium        5849.0             high   \n",
       "1         Rural           N     medium        6091.0             high   \n",
       "2         Urban           Y    average        3000.0              low   \n",
       "3         Urban           Y    average        4941.0          average   \n",
       "4         Urban           Y     medium        6000.0             high   \n",
       "\n",
       "   Loan_Amount_per_year         EMI  Able_to_pay_EMI  NewFeature  Seperator  \n",
       "0                   NaN         NaN                0         NaN      False  \n",
       "1              4.266667  355.555556                1     11967.0       True  \n",
       "2              2.200000  183.333333                1     10198.0       True  \n",
       "3              4.000000  333.333333                1      9943.0       True  \n",
       "4              4.700000  391.666667                1     13423.0       True  "
      ]
     },
     "execution_count": 88,
     "metadata": {},
     "output_type": "execute_result"
    }
   ],
   "source": [
    "data.head()"
   ]
  },
  {
   "cell_type": "code",
   "execution_count": 89,
   "id": "7730db03",
   "metadata": {},
   "outputs": [],
   "source": [
    "data['Seperator'] = data['Seperator'].astype('str')"
   ]
  },
  {
   "cell_type": "code",
   "execution_count": 90,
   "id": "c7e78330",
   "metadata": {},
   "outputs": [
    {
     "data": {
      "text/html": [
       "<div>\n",
       "<style scoped>\n",
       "    .dataframe tbody tr th:only-of-type {\n",
       "        vertical-align: middle;\n",
       "    }\n",
       "\n",
       "    .dataframe tbody tr th {\n",
       "        vertical-align: top;\n",
       "    }\n",
       "\n",
       "    .dataframe thead th {\n",
       "        text-align: right;\n",
       "    }\n",
       "</style>\n",
       "<table border=\"1\" class=\"dataframe\">\n",
       "  <thead>\n",
       "    <tr style=\"text-align: right;\">\n",
       "      <th>Loan_Status</th>\n",
       "      <th>N</th>\n",
       "      <th>Y</th>\n",
       "    </tr>\n",
       "    <tr>\n",
       "      <th>Seperator</th>\n",
       "      <th></th>\n",
       "      <th></th>\n",
       "    </tr>\n",
       "  </thead>\n",
       "  <tbody>\n",
       "    <tr>\n",
       "      <th>False</th>\n",
       "      <td>36</td>\n",
       "      <td>50</td>\n",
       "    </tr>\n",
       "    <tr>\n",
       "      <th>True</th>\n",
       "      <td>156</td>\n",
       "      <td>372</td>\n",
       "    </tr>\n",
       "  </tbody>\n",
       "</table>\n",
       "</div>"
      ],
      "text/plain": [
       "Loan_Status    N    Y\n",
       "Seperator            \n",
       "False         36   50\n",
       "True         156  372"
      ]
     },
     "execution_count": 90,
     "metadata": {},
     "output_type": "execute_result"
    }
   ],
   "source": [
    "pd.crosstab(data['Seperator'],data['Loan_Status'])"
   ]
  },
  {
   "cell_type": "code",
   "execution_count": 91,
   "id": "daa1cdac",
   "metadata": {},
   "outputs": [],
   "source": [
    "vals = pd.crosstab(data['Seperator'],data['Loan_Status'])"
   ]
  },
  {
   "cell_type": "code",
   "execution_count": 92,
   "id": "379c3a66",
   "metadata": {},
   "outputs": [
    {
     "data": {
      "text/plain": [
       "Chi2ContingencyResult(statistic=4.661356306711547, pvalue=0.030848813937153836, dof=1, expected_freq=array([[ 26.89250814,  59.10749186],\n",
       "       [165.10749186, 362.89250814]]))"
      ]
     },
     "execution_count": 92,
     "metadata": {},
     "output_type": "execute_result"
    }
   ],
   "source": [
    " chi2_contingency(vals)"
   ]
  },
  {
   "cell_type": "code",
   "execution_count": 93,
   "id": "71d8cf59",
   "metadata": {},
   "outputs": [],
   "source": [
    "# since p_value is small we can say these two features are related"
   ]
  },
  {
   "cell_type": "code",
   "execution_count": 94,
   "id": "5ab161c0",
   "metadata": {},
   "outputs": [
    {
     "data": {
      "text/html": [
       "<div>\n",
       "<style scoped>\n",
       "    .dataframe tbody tr th:only-of-type {\n",
       "        vertical-align: middle;\n",
       "    }\n",
       "\n",
       "    .dataframe tbody tr th {\n",
       "        vertical-align: top;\n",
       "    }\n",
       "\n",
       "    .dataframe thead th {\n",
       "        text-align: right;\n",
       "    }\n",
       "</style>\n",
       "<table border=\"1\" class=\"dataframe\">\n",
       "  <thead>\n",
       "    <tr style=\"text-align: right;\">\n",
       "      <th></th>\n",
       "      <th>Gender</th>\n",
       "      <th>Married</th>\n",
       "      <th>Dependents</th>\n",
       "      <th>Education</th>\n",
       "      <th>Self_Employed</th>\n",
       "      <th>ApplicantIncome</th>\n",
       "      <th>CoapplicantIncome</th>\n",
       "      <th>LoanAmount</th>\n",
       "      <th>Loan_Amount_Term</th>\n",
       "      <th>Credit_History</th>\n",
       "      <th>Property_Area</th>\n",
       "      <th>Loan_Status</th>\n",
       "      <th>Income_bin</th>\n",
       "      <th>Total_Income</th>\n",
       "      <th>Total_Income_bin</th>\n",
       "      <th>Loan_Amount_per_year</th>\n",
       "      <th>EMI</th>\n",
       "      <th>Able_to_pay_EMI</th>\n",
       "      <th>NewFeature</th>\n",
       "      <th>Seperator</th>\n",
       "    </tr>\n",
       "  </thead>\n",
       "  <tbody>\n",
       "    <tr>\n",
       "      <th>0</th>\n",
       "      <td>Male</td>\n",
       "      <td>No</td>\n",
       "      <td>0.0</td>\n",
       "      <td>Graduate</td>\n",
       "      <td>No</td>\n",
       "      <td>5849</td>\n",
       "      <td>0.0</td>\n",
       "      <td>NaN</td>\n",
       "      <td>30.0</td>\n",
       "      <td>1.0</td>\n",
       "      <td>Urban</td>\n",
       "      <td>Y</td>\n",
       "      <td>medium</td>\n",
       "      <td>5849.0</td>\n",
       "      <td>high</td>\n",
       "      <td>NaN</td>\n",
       "      <td>NaN</td>\n",
       "      <td>0</td>\n",
       "      <td>NaN</td>\n",
       "      <td>False</td>\n",
       "    </tr>\n",
       "    <tr>\n",
       "      <th>1</th>\n",
       "      <td>Male</td>\n",
       "      <td>Yes</td>\n",
       "      <td>1.0</td>\n",
       "      <td>Graduate</td>\n",
       "      <td>No</td>\n",
       "      <td>4583</td>\n",
       "      <td>1508.0</td>\n",
       "      <td>128.0</td>\n",
       "      <td>30.0</td>\n",
       "      <td>1.0</td>\n",
       "      <td>Rural</td>\n",
       "      <td>N</td>\n",
       "      <td>medium</td>\n",
       "      <td>6091.0</td>\n",
       "      <td>high</td>\n",
       "      <td>4.266667</td>\n",
       "      <td>355.555556</td>\n",
       "      <td>1</td>\n",
       "      <td>11967.0</td>\n",
       "      <td>True</td>\n",
       "    </tr>\n",
       "    <tr>\n",
       "      <th>2</th>\n",
       "      <td>Male</td>\n",
       "      <td>Yes</td>\n",
       "      <td>0.0</td>\n",
       "      <td>Graduate</td>\n",
       "      <td>Yes</td>\n",
       "      <td>3000</td>\n",
       "      <td>0.0</td>\n",
       "      <td>66.0</td>\n",
       "      <td>30.0</td>\n",
       "      <td>1.0</td>\n",
       "      <td>Urban</td>\n",
       "      <td>Y</td>\n",
       "      <td>average</td>\n",
       "      <td>3000.0</td>\n",
       "      <td>low</td>\n",
       "      <td>2.200000</td>\n",
       "      <td>183.333333</td>\n",
       "      <td>1</td>\n",
       "      <td>10198.0</td>\n",
       "      <td>True</td>\n",
       "    </tr>\n",
       "    <tr>\n",
       "      <th>3</th>\n",
       "      <td>Male</td>\n",
       "      <td>Yes</td>\n",
       "      <td>0.0</td>\n",
       "      <td>Not Graduate</td>\n",
       "      <td>No</td>\n",
       "      <td>2583</td>\n",
       "      <td>2358.0</td>\n",
       "      <td>120.0</td>\n",
       "      <td>30.0</td>\n",
       "      <td>1.0</td>\n",
       "      <td>Urban</td>\n",
       "      <td>Y</td>\n",
       "      <td>average</td>\n",
       "      <td>4941.0</td>\n",
       "      <td>average</td>\n",
       "      <td>4.000000</td>\n",
       "      <td>333.333333</td>\n",
       "      <td>1</td>\n",
       "      <td>9943.0</td>\n",
       "      <td>True</td>\n",
       "    </tr>\n",
       "    <tr>\n",
       "      <th>4</th>\n",
       "      <td>Male</td>\n",
       "      <td>No</td>\n",
       "      <td>0.0</td>\n",
       "      <td>Graduate</td>\n",
       "      <td>No</td>\n",
       "      <td>6000</td>\n",
       "      <td>0.0</td>\n",
       "      <td>141.0</td>\n",
       "      <td>30.0</td>\n",
       "      <td>1.0</td>\n",
       "      <td>Urban</td>\n",
       "      <td>Y</td>\n",
       "      <td>medium</td>\n",
       "      <td>6000.0</td>\n",
       "      <td>high</td>\n",
       "      <td>4.700000</td>\n",
       "      <td>391.666667</td>\n",
       "      <td>1</td>\n",
       "      <td>13423.0</td>\n",
       "      <td>True</td>\n",
       "    </tr>\n",
       "  </tbody>\n",
       "</table>\n",
       "</div>"
      ],
      "text/plain": [
       "  Gender Married  Dependents     Education Self_Employed  ApplicantIncome  \\\n",
       "0   Male      No         0.0      Graduate            No             5849   \n",
       "1   Male     Yes         1.0      Graduate            No             4583   \n",
       "2   Male     Yes         0.0      Graduate           Yes             3000   \n",
       "3   Male     Yes         0.0  Not Graduate            No             2583   \n",
       "4   Male      No         0.0      Graduate            No             6000   \n",
       "\n",
       "   CoapplicantIncome  LoanAmount  Loan_Amount_Term  Credit_History  \\\n",
       "0                0.0         NaN              30.0             1.0   \n",
       "1             1508.0       128.0              30.0             1.0   \n",
       "2                0.0        66.0              30.0             1.0   \n",
       "3             2358.0       120.0              30.0             1.0   \n",
       "4                0.0       141.0              30.0             1.0   \n",
       "\n",
       "  Property_Area Loan_Status Income_bin  Total_Income Total_Income_bin  \\\n",
       "0         Urban           Y     medium        5849.0             high   \n",
       "1         Rural           N     medium        6091.0             high   \n",
       "2         Urban           Y    average        3000.0              low   \n",
       "3         Urban           Y    average        4941.0          average   \n",
       "4         Urban           Y     medium        6000.0             high   \n",
       "\n",
       "   Loan_Amount_per_year         EMI  Able_to_pay_EMI  NewFeature Seperator  \n",
       "0                   NaN         NaN                0         NaN     False  \n",
       "1              4.266667  355.555556                1     11967.0      True  \n",
       "2              2.200000  183.333333                1     10198.0      True  \n",
       "3              4.000000  333.333333                1      9943.0      True  \n",
       "4              4.700000  391.666667                1     13423.0      True  "
      ]
     },
     "execution_count": 94,
     "metadata": {},
     "output_type": "execute_result"
    }
   ],
   "source": [
    "data.head()"
   ]
  },
  {
   "cell_type": "code",
   "execution_count": 95,
   "id": "456f55d7",
   "metadata": {},
   "outputs": [],
   "source": [
    "married_income = data.loc[data['Married']=='Yes'][['ApplicantIncome']]\n"
   ]
  },
  {
   "cell_type": "code",
   "execution_count": 96,
   "id": "14e27eda",
   "metadata": {},
   "outputs": [],
   "source": [
    "Unmarried_income = data.loc[data['Married']=='No'][['ApplicantIncome']]"
   ]
  },
  {
   "cell_type": "code",
   "execution_count": 97,
   "id": "26e39913",
   "metadata": {},
   "outputs": [
    {
     "data": {
      "text/plain": [
       "ApplicantIncome    5629.173367\n",
       "dtype: float64"
      ]
     },
     "execution_count": 97,
     "metadata": {},
     "output_type": "execute_result"
    }
   ],
   "source": [
    "married_income.mean()"
   ]
  },
  {
   "cell_type": "code",
   "execution_count": 98,
   "id": "4702b6fe",
   "metadata": {},
   "outputs": [
    {
     "data": {
      "text/plain": [
       "ApplicantIncome    4970.384977\n",
       "dtype: float64"
      ]
     },
     "execution_count": 98,
     "metadata": {},
     "output_type": "execute_result"
    }
   ],
   "source": [
    "Unmarried_income.mean()"
   ]
  },
  {
   "cell_type": "code",
   "execution_count": 99,
   "id": "c0f3eb37",
   "metadata": {},
   "outputs": [],
   "source": [
    "# Is this difference statistically significant?\n"
   ]
  },
  {
   "cell_type": "code",
   "execution_count": 100,
   "id": "9ad35b18",
   "metadata": {},
   "outputs": [
    {
     "data": {
      "text/plain": [
       "TtestResult(statistic=array([1.26843341]), pvalue=array([0.10256393]), df=array([609.]))"
      ]
     },
     "execution_count": 100,
     "metadata": {},
     "output_type": "execute_result"
    }
   ],
   "source": [
    "ttest_ind(married_income,Unmarried_income,alternative = 'greater')"
   ]
  },
  {
   "cell_type": "code",
   "execution_count": 101,
   "id": "ecfa0734",
   "metadata": {},
   "outputs": [],
   "source": [
    "# since p_value is 10% . we can say they are not related"
   ]
  },
  {
   "cell_type": "markdown",
   "id": "62d188f9",
   "metadata": {},
   "source": [
    "# Missing Values Treatment"
   ]
  },
  {
   "cell_type": "code",
   "execution_count": 104,
   "id": "3e47e845",
   "metadata": {},
   "outputs": [
    {
     "data": {
      "text/plain": [
       "Credit_History\n",
       "1.0    475\n",
       "0.0     89\n",
       "Name: count, dtype: int64"
      ]
     },
     "execution_count": 104,
     "metadata": {},
     "output_type": "execute_result"
    }
   ],
   "source": [
    "data['Credit_History'].value_counts()"
   ]
  },
  {
   "cell_type": "code",
   "execution_count": 105,
   "id": "3b66eb91",
   "metadata": {},
   "outputs": [],
   "source": [
    "# It will be very unfair if we decide to drop the 50 rows directly.\n",
    "# It will be very unfair to use the most frequent value here.\n",
    "# So we will just give it an another no. 2"
   ]
  },
  {
   "cell_type": "code",
   "execution_count": 106,
   "id": "2908042e",
   "metadata": {},
   "outputs": [],
   "source": [
    "data['Credit_History'] = data['Credit_History'].fillna(2)"
   ]
  },
  {
   "cell_type": "code",
   "execution_count": 107,
   "id": "e3f4c3d4",
   "metadata": {},
   "outputs": [],
   "source": [
    "# Similarly with Self_Employed feature"
   ]
  },
  {
   "cell_type": "code",
   "execution_count": 108,
   "id": "cde635fe",
   "metadata": {},
   "outputs": [
    {
     "data": {
      "text/plain": [
       "Self_Employed\n",
       "No     500\n",
       "Yes     82\n",
       "Name: count, dtype: int64"
      ]
     },
     "execution_count": 108,
     "metadata": {},
     "output_type": "execute_result"
    }
   ],
   "source": [
    "data['Self_Employed'].value_counts()"
   ]
  },
  {
   "cell_type": "code",
   "execution_count": 109,
   "id": "18c216bd",
   "metadata": {},
   "outputs": [],
   "source": [
    "data['Self_Employed'] = data['Self_Employed'].fillna('Other')"
   ]
  },
  {
   "cell_type": "markdown",
   "id": "1bd8c73e",
   "metadata": {},
   "source": [
    "# Some Imputation Techniques"
   ]
  },
  {
   "cell_type": "code",
   "execution_count": 111,
   "id": "517749a8",
   "metadata": {},
   "outputs": [],
   "source": [
    "from sklearn.impute import SimpleImputer"
   ]
  },
  {
   "cell_type": "markdown",
   "id": "9effd19b",
   "metadata": {},
   "source": [
    "### Numerical columns"
   ]
  },
  {
   "cell_type": "code",
   "execution_count": 112,
   "id": "3145cc09",
   "metadata": {},
   "outputs": [
    {
     "data": {
      "text/plain": [
       "['Dependents',\n",
       " 'ApplicantIncome',\n",
       " 'CoapplicantIncome',\n",
       " 'LoanAmount',\n",
       " 'Loan_Amount_Term',\n",
       " 'Credit_History',\n",
       " 'Income_bin',\n",
       " 'Total_Income',\n",
       " 'Total_Income_bin',\n",
       " 'Loan_Amount_per_year',\n",
       " 'EMI',\n",
       " 'Able_to_pay_EMI',\n",
       " 'NewFeature']"
      ]
     },
     "execution_count": 112,
     "metadata": {},
     "output_type": "execute_result"
    }
   ],
   "source": [
    "num_cols = data.dtypes != 'object'\n",
    "num_cols = list(num_cols[num_cols].index)\n",
    "num_cols"
   ]
  },
  {
   "cell_type": "code",
   "execution_count": 113,
   "id": "3230a9d1",
   "metadata": {},
   "outputs": [
    {
     "data": {
      "text/plain": [
       "Gender                  13\n",
       "Married                  3\n",
       "Dependents              15\n",
       "Education                0\n",
       "Self_Employed            0\n",
       "ApplicantIncome          0\n",
       "CoapplicantIncome        0\n",
       "LoanAmount              22\n",
       "Loan_Amount_Term        14\n",
       "Credit_History           0\n",
       "Property_Area            0\n",
       "Loan_Status              0\n",
       "Income_bin               0\n",
       "Total_Income             0\n",
       "Total_Income_bin         0\n",
       "Loan_Amount_per_year    36\n",
       "EMI                     36\n",
       "Able_to_pay_EMI          0\n",
       "NewFeature              71\n",
       "Seperator                0\n",
       "dtype: int64"
      ]
     },
     "execution_count": 113,
     "metadata": {},
     "output_type": "execute_result"
    }
   ],
   "source": [
    "data.isna().sum()"
   ]
  },
  {
   "cell_type": "code",
   "execution_count": 116,
   "id": "4047cd49",
   "metadata": {},
   "outputs": [],
   "source": [
    "num_missing = ['EMI','Loan_Amount_per_year','LoanAmount','Loan_Amount_Term']"
   ]
  },
  {
   "cell_type": "code",
   "execution_count": 117,
   "id": "ae5d654b",
   "metadata": {},
   "outputs": [],
   "source": [
    "median_imputer = SimpleImputer(strategy = 'median')\n",
    "\n",
    "for col in num_missing:\n",
    "    data[col] = pd.DataFrame(median_imputer.fit_transform(pd.DataFrame(data[col])))"
   ]
  },
  {
   "cell_type": "markdown",
   "id": "319d35be",
   "metadata": {},
   "source": [
    "### For categorical columns"
   ]
  },
  {
   "cell_type": "code",
   "execution_count": 119,
   "id": "9a0fd976",
   "metadata": {},
   "outputs": [],
   "source": [
    "cat_missing = ['Gender','Married','Dependents']\n",
    "\n",
    "freq_imputer = SimpleImputer(strategy = 'most_frequent')\n",
    "\n",
    "for col in cat_missing:\n",
    "    data[col] = pd.DataFrame(freq_imputer.fit_transform(pd.DataFrame(data[col])))"
   ]
  },
  {
   "cell_type": "code",
   "execution_count": 126,
   "id": "0f7546b1",
   "metadata": {},
   "outputs": [
    {
     "data": {
      "text/plain": [
       "Gender                   0\n",
       "Married                  0\n",
       "Dependents               0\n",
       "Education                0\n",
       "Self_Employed            0\n",
       "ApplicantIncome          0\n",
       "CoapplicantIncome        0\n",
       "LoanAmount               0\n",
       "Loan_Amount_Term         0\n",
       "Credit_History           0\n",
       "Property_Area            0\n",
       "Loan_Status              0\n",
       "Income_bin               0\n",
       "Total_Income             0\n",
       "Total_Income_bin         0\n",
       "Loan_Amount_per_year     0\n",
       "EMI                      0\n",
       "Able_to_pay_EMI          0\n",
       "NewFeature              71\n",
       "Seperator                0\n",
       "dtype: int64"
      ]
     },
     "execution_count": 126,
     "metadata": {},
     "output_type": "execute_result"
    }
   ],
   "source": [
    "data.isna().sum()"
   ]
  },
  {
   "cell_type": "markdown",
   "id": "d860954b",
   "metadata": {},
   "source": [
    "## Categoric to Numeric"
   ]
  },
  {
   "cell_type": "code",
   "execution_count": 123,
   "id": "4b9532f2",
   "metadata": {},
   "outputs": [
    {
     "data": {
      "text/plain": [
       "['Gender',\n",
       " 'Married',\n",
       " 'Education',\n",
       " 'Self_Employed',\n",
       " 'Property_Area',\n",
       " 'Loan_Status',\n",
       " 'Seperator']"
      ]
     },
     "execution_count": 123,
     "metadata": {},
     "output_type": "execute_result"
    }
   ],
   "source": [
    "s = data.dtypes == 'object'\n",
    "object_cols= list(s[s].index)\n",
    "object_cols"
   ]
  },
  {
   "cell_type": "markdown",
   "id": "4d0ea72f",
   "metadata": {},
   "source": [
    "### Loan_Status"
   ]
  },
  {
   "cell_type": "code",
   "execution_count": 124,
   "id": "367fa94c",
   "metadata": {},
   "outputs": [],
   "source": [
    "from sklearn.preprocessing import LabelEncoder"
   ]
  },
  {
   "cell_type": "code",
   "execution_count": 125,
   "id": "6a1a37e5",
   "metadata": {},
   "outputs": [
    {
     "data": {
      "text/plain": [
       "Loan_Status\n",
       "Y    422\n",
       "N    192\n",
       "Name: count, dtype: int64"
      ]
     },
     "execution_count": 125,
     "metadata": {},
     "output_type": "execute_result"
    }
   ],
   "source": [
    "col = 'Loan_Status'\n",
    "data[col].value_counts()"
   ]
  },
  {
   "cell_type": "code",
   "execution_count": 127,
   "id": "ac56d8db",
   "metadata": {},
   "outputs": [
    {
     "data": {
      "text/plain": [
       "Loan_Status\n",
       "1    422\n",
       "0    192\n",
       "Name: count, dtype: int64"
      ]
     },
     "execution_count": 127,
     "metadata": {},
     "output_type": "execute_result"
    }
   ],
   "source": [
    "label_encoder = LabelEncoder()\n",
    "data[col] = label_encoder.fit_transform(data[col])\n",
    "data[col].value_counts()"
   ]
  },
  {
   "cell_type": "markdown",
   "id": "e10fe9c6",
   "metadata": {},
   "source": [
    "### Gender"
   ]
  },
  {
   "cell_type": "code",
   "execution_count": 128,
   "id": "cd393b56",
   "metadata": {},
   "outputs": [
    {
     "data": {
      "text/plain": [
       "Gender\n",
       "Male      502\n",
       "Female    112\n",
       "Name: count, dtype: int64"
      ]
     },
     "execution_count": 128,
     "metadata": {},
     "output_type": "execute_result"
    }
   ],
   "source": [
    "col = 'Gender'\n",
    "data[col].value_counts()"
   ]
  },
  {
   "cell_type": "code",
   "execution_count": 129,
   "id": "90b0d6ac",
   "metadata": {},
   "outputs": [
    {
     "data": {
      "text/plain": [
       "Gender\n",
       "1    502\n",
       "0    112\n",
       "Name: count, dtype: int64"
      ]
     },
     "execution_count": 129,
     "metadata": {},
     "output_type": "execute_result"
    }
   ],
   "source": [
    "label_encoder = LabelEncoder()\n",
    "data[col] = label_encoder.fit_transform(data[col])\n",
    "data[col].value_counts()"
   ]
  },
  {
   "cell_type": "markdown",
   "id": "b51232a7",
   "metadata": {},
   "source": [
    "### Married"
   ]
  },
  {
   "cell_type": "code",
   "execution_count": 130,
   "id": "2cb0f5ae",
   "metadata": {},
   "outputs": [
    {
     "data": {
      "text/plain": [
       "Married\n",
       "Yes    401\n",
       "No     213\n",
       "Name: count, dtype: int64"
      ]
     },
     "execution_count": 130,
     "metadata": {},
     "output_type": "execute_result"
    }
   ],
   "source": [
    "col = 'Married'\n",
    "data[col].value_counts()"
   ]
  },
  {
   "cell_type": "code",
   "execution_count": 131,
   "id": "35484541",
   "metadata": {},
   "outputs": [
    {
     "data": {
      "text/plain": [
       "Married\n",
       "1    401\n",
       "0    213\n",
       "Name: count, dtype: int64"
      ]
     },
     "execution_count": 131,
     "metadata": {},
     "output_type": "execute_result"
    }
   ],
   "source": [
    "label_encoder = LabelEncoder()\n",
    "data[col] = label_encoder.fit_transform(data[col])\n",
    "data[col].value_counts()"
   ]
  },
  {
   "cell_type": "markdown",
   "id": "7fc88027",
   "metadata": {},
   "source": [
    "### Education"
   ]
  },
  {
   "cell_type": "code",
   "execution_count": 132,
   "id": "261752e2",
   "metadata": {},
   "outputs": [
    {
     "data": {
      "text/plain": [
       "Education\n",
       "Graduate        480\n",
       "Not Graduate    134\n",
       "Name: count, dtype: int64"
      ]
     },
     "execution_count": 132,
     "metadata": {},
     "output_type": "execute_result"
    }
   ],
   "source": [
    "col = 'Education'\n",
    "data[col].value_counts()"
   ]
  },
  {
   "cell_type": "code",
   "execution_count": 133,
   "id": "bbfaa18a",
   "metadata": {},
   "outputs": [
    {
     "data": {
      "text/plain": [
       "Education\n",
       "0    480\n",
       "1    134\n",
       "Name: count, dtype: int64"
      ]
     },
     "execution_count": 133,
     "metadata": {},
     "output_type": "execute_result"
    }
   ],
   "source": [
    "label_encoder = LabelEncoder()\n",
    "data[col] = label_encoder.fit_transform(data[col])\n",
    "data[col].value_counts()"
   ]
  },
  {
   "cell_type": "markdown",
   "id": "736df084",
   "metadata": {},
   "source": [
    "### Seperator"
   ]
  },
  {
   "cell_type": "code",
   "execution_count": 147,
   "id": "ca65dbfa",
   "metadata": {},
   "outputs": [
    {
     "data": {
      "text/plain": [
       "Seperator\n",
       "True     528\n",
       "False     86\n",
       "Name: count, dtype: int64"
      ]
     },
     "execution_count": 147,
     "metadata": {},
     "output_type": "execute_result"
    }
   ],
   "source": [
    "col = 'Seperator'\n",
    "data[col].value_counts()"
   ]
  },
  {
   "cell_type": "code",
   "execution_count": 148,
   "id": "987448a2",
   "metadata": {},
   "outputs": [
    {
     "data": {
      "text/plain": [
       "Seperator\n",
       "1    528\n",
       "0     86\n",
       "Name: count, dtype: int64"
      ]
     },
     "execution_count": 148,
     "metadata": {},
     "output_type": "execute_result"
    }
   ],
   "source": [
    "label_encoder = LabelEncoder()\n",
    "data[col] = label_encoder.fit_transform(data[col])\n",
    "data[col].value_counts()"
   ]
  },
  {
   "cell_type": "markdown",
   "id": "d7364e60",
   "metadata": {},
   "source": [
    "### When we have more than two categories inside a feature."
   ]
  },
  {
   "cell_type": "code",
   "execution_count": 134,
   "id": "12b54d2a",
   "metadata": {},
   "outputs": [
    {
     "name": "stdout",
     "output_type": "stream",
     "text": [
      "Collecting category_encoders\n",
      "  Obtaining dependency information for category_encoders from https://files.pythonhosted.org/packages/1f/e2/495811f12b2e90753fff0e42a07adb0370a725de17cc23a579ac9d3ca67c/category_encoders-2.6.2-py2.py3-none-any.whl.metadata\n",
      "  Downloading category_encoders-2.6.2-py2.py3-none-any.whl.metadata (8.0 kB)\n",
      "Requirement already satisfied: numpy>=1.14.0 in c:\\users\\htc\\appdata\\local\\programs\\python\\python311\\lib\\site-packages (from category_encoders) (1.25.2)\n",
      "Requirement already satisfied: scikit-learn>=0.20.0 in c:\\users\\htc\\appdata\\local\\programs\\python\\python311\\lib\\site-packages (from category_encoders) (1.3.1)\n",
      "Requirement already satisfied: scipy>=1.0.0 in c:\\users\\htc\\appdata\\local\\programs\\python\\python311\\lib\\site-packages (from category_encoders) (1.11.2)\n",
      "Requirement already satisfied: statsmodels>=0.9.0 in c:\\users\\htc\\appdata\\local\\programs\\python\\python311\\lib\\site-packages (from category_encoders) (0.14.0)\n",
      "Requirement already satisfied: pandas>=1.0.5 in c:\\users\\htc\\appdata\\local\\programs\\python\\python311\\lib\\site-packages (from category_encoders) (2.0.3)\n",
      "Requirement already satisfied: patsy>=0.5.1 in c:\\users\\htc\\appdata\\local\\programs\\python\\python311\\lib\\site-packages (from category_encoders) (0.5.3)\n",
      "Requirement already satisfied: python-dateutil>=2.8.2 in c:\\users\\htc\\appdata\\local\\programs\\python\\python311\\lib\\site-packages (from pandas>=1.0.5->category_encoders) (2.8.2)\n",
      "Requirement already satisfied: pytz>=2020.1 in c:\\users\\htc\\appdata\\local\\programs\\python\\python311\\lib\\site-packages (from pandas>=1.0.5->category_encoders) (2022.7.1)\n",
      "Requirement already satisfied: tzdata>=2022.1 in c:\\users\\htc\\appdata\\local\\programs\\python\\python311\\lib\\site-packages (from pandas>=1.0.5->category_encoders) (2023.3)\n",
      "Requirement already satisfied: six in c:\\users\\htc\\appdata\\local\\programs\\python\\python311\\lib\\site-packages (from patsy>=0.5.1->category_encoders) (1.16.0)\n",
      "Requirement already satisfied: joblib>=1.1.1 in c:\\users\\htc\\appdata\\local\\programs\\python\\python311\\lib\\site-packages (from scikit-learn>=0.20.0->category_encoders) (1.3.2)\n",
      "Requirement already satisfied: threadpoolctl>=2.0.0 in c:\\users\\htc\\appdata\\local\\programs\\python\\python311\\lib\\site-packages (from scikit-learn>=0.20.0->category_encoders) (3.2.0)\n",
      "Requirement already satisfied: packaging>=21.3 in c:\\users\\htc\\appdata\\local\\programs\\python\\python311\\lib\\site-packages (from statsmodels>=0.9.0->category_encoders) (23.0)\n",
      "Downloading category_encoders-2.6.2-py2.py3-none-any.whl (81 kB)\n",
      "   ---------------------------------------- 0.0/81.8 kB ? eta -:--:--\n",
      "   ------------------------------ --------- 61.4/81.8 kB 1.6 MB/s eta 0:00:01\n",
      "   ---------------------------------------- 81.8/81.8 kB 917.8 kB/s eta 0:00:00\n",
      "Installing collected packages: category_encoders\n",
      "Successfully installed category_encoders-2.6.2\n"
     ]
    }
   ],
   "source": [
    "!pip install category_encoders"
   ]
  },
  {
   "cell_type": "code",
   "execution_count": 135,
   "id": "77a6d7c7",
   "metadata": {},
   "outputs": [],
   "source": [
    "from category_encoders import TargetEncoder"
   ]
  },
  {
   "cell_type": "markdown",
   "id": "63bec896",
   "metadata": {},
   "source": [
    "### Property Area"
   ]
  },
  {
   "cell_type": "code",
   "execution_count": 136,
   "id": "2ae6ead2",
   "metadata": {},
   "outputs": [
    {
     "data": {
      "text/plain": [
       "Property_Area\n",
       "Semiurban    233\n",
       "Urban        202\n",
       "Rural        179\n",
       "Name: count, dtype: int64"
      ]
     },
     "execution_count": 136,
     "metadata": {},
     "output_type": "execute_result"
    }
   ],
   "source": [
    "col = 'Property_Area'\n",
    "data[col].value_counts()"
   ]
  },
  {
   "cell_type": "code",
   "execution_count": 140,
   "id": "821e534d",
   "metadata": {},
   "outputs": [
    {
     "data": {
      "text/plain": [
       "Property_Area\n",
       "0.768240    233\n",
       "0.658416    202\n",
       "0.614525    179\n",
       "Name: count, dtype: int64"
      ]
     },
     "execution_count": 140,
     "metadata": {},
     "output_type": "execute_result"
    }
   ],
   "source": [
    "te = TargetEncoder()\n",
    "data[col] = te.fit_transform(data[col],data['Loan_Status'])\n",
    "data[col].value_counts()"
   ]
  },
  {
   "cell_type": "markdown",
   "id": "effb5f81",
   "metadata": {},
   "source": [
    "### Self_Employed\n"
   ]
  },
  {
   "cell_type": "code",
   "execution_count": 142,
   "id": "8b53105f",
   "metadata": {},
   "outputs": [
    {
     "data": {
      "text/plain": [
       "Self_Employed\n",
       "No       500\n",
       "Yes       82\n",
       "Other     32\n",
       "Name: count, dtype: int64"
      ]
     },
     "execution_count": 142,
     "metadata": {},
     "output_type": "execute_result"
    }
   ],
   "source": [
    "col = 'Self_Employed'\n",
    "data[col].value_counts()"
   ]
  },
  {
   "cell_type": "code",
   "execution_count": 143,
   "id": "386c981b",
   "metadata": {},
   "outputs": [
    {
     "data": {
      "text/plain": [
       "Self_Employed\n",
       "0.686000    500\n",
       "0.682936     82\n",
       "0.711469     32\n",
       "Name: count, dtype: int64"
      ]
     },
     "execution_count": 143,
     "metadata": {},
     "output_type": "execute_result"
    }
   ],
   "source": [
    "te = TargetEncoder()\n",
    "data[col] = te.fit_transform(data[col],data['Loan_Status'])\n",
    "data[col].value_counts()"
   ]
  },
  {
   "cell_type": "markdown",
   "id": "0fe67aef",
   "metadata": {},
   "source": [
    "### Income bin"
   ]
  },
  {
   "cell_type": "code",
   "execution_count": 167,
   "id": "d518f2d8",
   "metadata": {},
   "outputs": [
    {
     "data": {
      "text/plain": [
       "Income_bin\n",
       "average      226\n",
       "medium       143\n",
       "low          108\n",
       "h1            54\n",
       "h3            40\n",
       "h2            31\n",
       "h4             9\n",
       "very high      3\n",
       "Name: count, dtype: int64"
      ]
     },
     "execution_count": 167,
     "metadata": {},
     "output_type": "execute_result"
    }
   ],
   "source": [
    "col = 'Income_bin'\n",
    "data[col].value_counts()"
   ]
  },
  {
   "cell_type": "code",
   "execution_count": 168,
   "id": "d90fa529",
   "metadata": {},
   "outputs": [
    {
     "data": {
      "text/plain": [
       "Income_bin\n",
       "0.703540    226\n",
       "0.685315    143\n",
       "0.685186    108\n",
       "0.631492     54\n",
       "0.676466     40\n",
       "0.704088     31\n",
       "0.682144      9\n",
       "0.684110      3\n",
       "Name: count, dtype: int64"
      ]
     },
     "execution_count": 168,
     "metadata": {},
     "output_type": "execute_result"
    }
   ],
   "source": [
    "te = TargetEncoder()\n",
    "data[col] = te.fit_transform(data[col],data['Loan_Status'])\n",
    "data[col].value_counts()"
   ]
  },
  {
   "cell_type": "markdown",
   "id": "ae8f9706",
   "metadata": {},
   "source": [
    "### Total Income bin"
   ]
  },
  {
   "cell_type": "code",
   "execution_count": 169,
   "id": "eb2043e3",
   "metadata": {},
   "outputs": [
    {
     "data": {
      "text/plain": [
       "Total_Income_bin\n",
       "average      223\n",
       "high         212\n",
       "very high    132\n",
       "low           47\n",
       "Name: count, dtype: int64"
      ]
     },
     "execution_count": 169,
     "metadata": {},
     "output_type": "execute_result"
    }
   ],
   "source": [
    "col = 'Total_Income_bin'\n",
    "data[col].value_counts()"
   ]
  },
  {
   "cell_type": "code",
   "execution_count": 170,
   "id": "17f26528",
   "metadata": {},
   "outputs": [
    {
     "data": {
      "text/plain": [
       "Total_Income_bin\n",
       "0.690583    223\n",
       "0.712264    212\n",
       "0.681818    132\n",
       "0.581573     47\n",
       "Name: count, dtype: int64"
      ]
     },
     "execution_count": 170,
     "metadata": {},
     "output_type": "execute_result"
    }
   ],
   "source": [
    "te = TargetEncoder()\n",
    "data[col] = te.fit_transform(data[col],data['Loan_Status'])\n",
    "data[col].value_counts()"
   ]
  },
  {
   "cell_type": "code",
   "execution_count": 171,
   "id": "38cd7457",
   "metadata": {},
   "outputs": [
    {
     "data": {
      "text/plain": [
       "Gender                    int32\n",
       "Married                   int32\n",
       "Dependents              float64\n",
       "Education                 int32\n",
       "Self_Employed           float64\n",
       "ApplicantIncome           int64\n",
       "CoapplicantIncome       float64\n",
       "LoanAmount              float64\n",
       "Loan_Amount_Term        float64\n",
       "Credit_History          float64\n",
       "Property_Area           float64\n",
       "Loan_Status               int32\n",
       "Income_bin              float64\n",
       "Total_Income            float64\n",
       "Total_Income_bin        float64\n",
       "Loan_Amount_per_year    float64\n",
       "EMI                     float64\n",
       "Able_to_pay_EMI           int32\n",
       "NewFeature              float64\n",
       "Seperator                 int32\n",
       "dtype: object"
      ]
     },
     "execution_count": 171,
     "metadata": {},
     "output_type": "execute_result"
    }
   ],
   "source": [
    "data.dtypes"
   ]
  },
  {
   "cell_type": "markdown",
   "id": "50f2c63e",
   "metadata": {},
   "source": [
    "All of the features are now either int or float."
   ]
  },
  {
   "cell_type": "code",
   "execution_count": 150,
   "id": "323bce10",
   "metadata": {},
   "outputs": [],
   "source": [
    "# Let's look at correlation of every datapoint."
   ]
  },
  {
   "cell_type": "code",
   "execution_count": 172,
   "id": "300cc994",
   "metadata": {},
   "outputs": [
    {
     "data": {
      "text/plain": [
       "<Axes: >"
      ]
     },
     "execution_count": 172,
     "metadata": {},
     "output_type": "execute_result"
    },
    {
     "data": {
      "image/png": "[encoded data removed]",
      "text/plain": [
       "<Figure size 1200x1200 with 2 Axes>"
      ]
     },
     "metadata": {},
     "output_type": "display_data"
    }
   ],
   "source": [
    "#PCC\n",
    "\n",
    "plt.figure(figsize =(12,12))\n",
    "sns.heatmap(data.corr(method = 'pearson'),square = True, annot = True)"
   ]
  },
  {
   "cell_type": "markdown",
   "id": "570ea6ab",
   "metadata": {},
   "source": [
    "# Standardization"
   ]
  },
  {
   "cell_type": "code",
   "execution_count": 173,
   "id": "33ca21c4",
   "metadata": {},
   "outputs": [],
   "source": [
    "from sklearn.preprocessing import StandardScaler"
   ]
  },
  {
   "cell_type": "code",
   "execution_count": 174,
   "id": "5df79ec8",
   "metadata": {},
   "outputs": [
    {
     "data": {
      "text/html": [
       "<div>\n",
       "<style scoped>\n",
       "    .dataframe tbody tr th:only-of-type {\n",
       "        vertical-align: middle;\n",
       "    }\n",
       "\n",
       "    .dataframe tbody tr th {\n",
       "        vertical-align: top;\n",
       "    }\n",
       "\n",
       "    .dataframe thead th {\n",
       "        text-align: right;\n",
       "    }\n",
       "</style>\n",
       "<table border=\"1\" class=\"dataframe\">\n",
       "  <thead>\n",
       "    <tr style=\"text-align: right;\">\n",
       "      <th></th>\n",
       "      <th>Gender</th>\n",
       "      <th>Married</th>\n",
       "      <th>Dependents</th>\n",
       "      <th>Education</th>\n",
       "      <th>Self_Employed</th>\n",
       "      <th>ApplicantIncome</th>\n",
       "      <th>CoapplicantIncome</th>\n",
       "      <th>LoanAmount</th>\n",
       "      <th>Loan_Amount_Term</th>\n",
       "      <th>Credit_History</th>\n",
       "      <th>Property_Area</th>\n",
       "      <th>Loan_Status</th>\n",
       "      <th>Income_bin</th>\n",
       "      <th>Total_Income</th>\n",
       "      <th>Total_Income_bin</th>\n",
       "      <th>Loan_Amount_per_year</th>\n",
       "      <th>EMI</th>\n",
       "      <th>Able_to_pay_EMI</th>\n",
       "      <th>NewFeature</th>\n",
       "      <th>Seperator</th>\n",
       "    </tr>\n",
       "  </thead>\n",
       "  <tbody>\n",
       "    <tr>\n",
       "      <th>0</th>\n",
       "      <td>1</td>\n",
       "      <td>0</td>\n",
       "      <td>0.0</td>\n",
       "      <td>0</td>\n",
       "      <td>0.686000</td>\n",
       "      <td>5849</td>\n",
       "      <td>0.0</td>\n",
       "      <td>128.0</td>\n",
       "      <td>30.0</td>\n",
       "      <td>1.0</td>\n",
       "      <td>0.658416</td>\n",
       "      <td>1</td>\n",
       "      <td>0.685315</td>\n",
       "      <td>5849.0</td>\n",
       "      <td>0.712264</td>\n",
       "      <td>4.383333</td>\n",
       "      <td>365.277778</td>\n",
       "      <td>0</td>\n",
       "      <td>NaN</td>\n",
       "      <td>0</td>\n",
       "    </tr>\n",
       "    <tr>\n",
       "      <th>1</th>\n",
       "      <td>1</td>\n",
       "      <td>1</td>\n",
       "      <td>1.0</td>\n",
       "      <td>0</td>\n",
       "      <td>0.686000</td>\n",
       "      <td>4583</td>\n",
       "      <td>1508.0</td>\n",
       "      <td>128.0</td>\n",
       "      <td>30.0</td>\n",
       "      <td>1.0</td>\n",
       "      <td>0.614525</td>\n",
       "      <td>0</td>\n",
       "      <td>0.685315</td>\n",
       "      <td>6091.0</td>\n",
       "      <td>0.712264</td>\n",
       "      <td>4.266667</td>\n",
       "      <td>355.555556</td>\n",
       "      <td>1</td>\n",
       "      <td>11967.0</td>\n",
       "      <td>1</td>\n",
       "    </tr>\n",
       "    <tr>\n",
       "      <th>2</th>\n",
       "      <td>1</td>\n",
       "      <td>1</td>\n",
       "      <td>0.0</td>\n",
       "      <td>0</td>\n",
       "      <td>0.682936</td>\n",
       "      <td>3000</td>\n",
       "      <td>0.0</td>\n",
       "      <td>66.0</td>\n",
       "      <td>30.0</td>\n",
       "      <td>1.0</td>\n",
       "      <td>0.658416</td>\n",
       "      <td>1</td>\n",
       "      <td>0.703540</td>\n",
       "      <td>3000.0</td>\n",
       "      <td>0.581573</td>\n",
       "      <td>2.200000</td>\n",
       "      <td>183.333333</td>\n",
       "      <td>1</td>\n",
       "      <td>10198.0</td>\n",
       "      <td>1</td>\n",
       "    </tr>\n",
       "    <tr>\n",
       "      <th>3</th>\n",
       "      <td>1</td>\n",
       "      <td>1</td>\n",
       "      <td>0.0</td>\n",
       "      <td>1</td>\n",
       "      <td>0.686000</td>\n",
       "      <td>2583</td>\n",
       "      <td>2358.0</td>\n",
       "      <td>120.0</td>\n",
       "      <td>30.0</td>\n",
       "      <td>1.0</td>\n",
       "      <td>0.658416</td>\n",
       "      <td>1</td>\n",
       "      <td>0.703540</td>\n",
       "      <td>4941.0</td>\n",
       "      <td>0.690583</td>\n",
       "      <td>4.000000</td>\n",
       "      <td>333.333333</td>\n",
       "      <td>1</td>\n",
       "      <td>9943.0</td>\n",
       "      <td>1</td>\n",
       "    </tr>\n",
       "    <tr>\n",
       "      <th>4</th>\n",
       "      <td>1</td>\n",
       "      <td>0</td>\n",
       "      <td>0.0</td>\n",
       "      <td>0</td>\n",
       "      <td>0.686000</td>\n",
       "      <td>6000</td>\n",
       "      <td>0.0</td>\n",
       "      <td>141.0</td>\n",
       "      <td>30.0</td>\n",
       "      <td>1.0</td>\n",
       "      <td>0.658416</td>\n",
       "      <td>1</td>\n",
       "      <td>0.685315</td>\n",
       "      <td>6000.0</td>\n",
       "      <td>0.712264</td>\n",
       "      <td>4.700000</td>\n",
       "      <td>391.666667</td>\n",
       "      <td>1</td>\n",
       "      <td>13423.0</td>\n",
       "      <td>1</td>\n",
       "    </tr>\n",
       "  </tbody>\n",
       "</table>\n",
       "</div>"
      ],
      "text/plain": [
       "   Gender  Married  Dependents  Education  Self_Employed  ApplicantIncome  \\\n",
       "0       1        0         0.0          0       0.686000             5849   \n",
       "1       1        1         1.0          0       0.686000             4583   \n",
       "2       1        1         0.0          0       0.682936             3000   \n",
       "3       1        1         0.0          1       0.686000             2583   \n",
       "4       1        0         0.0          0       0.686000             6000   \n",
       "\n",
       "   CoapplicantIncome  LoanAmount  Loan_Amount_Term  Credit_History  \\\n",
       "0                0.0       128.0              30.0             1.0   \n",
       "1             1508.0       128.0              30.0             1.0   \n",
       "2                0.0        66.0              30.0             1.0   \n",
       "3             2358.0       120.0              30.0             1.0   \n",
       "4                0.0       141.0              30.0             1.0   \n",
       "\n",
       "   Property_Area  Loan_Status  Income_bin  Total_Income  Total_Income_bin  \\\n",
       "0       0.658416            1    0.685315        5849.0          0.712264   \n",
       "1       0.614525            0    0.685315        6091.0          0.712264   \n",
       "2       0.658416            1    0.703540        3000.0          0.581573   \n",
       "3       0.658416            1    0.703540        4941.0          0.690583   \n",
       "4       0.658416            1    0.685315        6000.0          0.712264   \n",
       "\n",
       "   Loan_Amount_per_year         EMI  Able_to_pay_EMI  NewFeature  Seperator  \n",
       "0              4.383333  365.277778                0         NaN          0  \n",
       "1              4.266667  355.555556                1     11967.0          1  \n",
       "2              2.200000  183.333333                1     10198.0          1  \n",
       "3              4.000000  333.333333                1      9943.0          1  \n",
       "4              4.700000  391.666667                1     13423.0          1  "
      ]
     },
     "execution_count": 174,
     "metadata": {},
     "output_type": "execute_result"
    }
   ],
   "source": [
    "data.head()"
   ]
  },
  {
   "cell_type": "code",
   "execution_count": 175,
   "id": "355348da",
   "metadata": {},
   "outputs": [],
   "source": [
    "# Let's standardized this data with z_scores"
   ]
  },
  {
   "cell_type": "code",
   "execution_count": 176,
   "id": "3e139c5e",
   "metadata": {},
   "outputs": [
    {
     "data": {
      "text/html": [
       "<div>\n",
       "<style scoped>\n",
       "    .dataframe tbody tr th:only-of-type {\n",
       "        vertical-align: middle;\n",
       "    }\n",
       "\n",
       "    .dataframe tbody tr th {\n",
       "        vertical-align: top;\n",
       "    }\n",
       "\n",
       "    .dataframe thead th {\n",
       "        text-align: right;\n",
       "    }\n",
       "</style>\n",
       "<table border=\"1\" class=\"dataframe\">\n",
       "  <thead>\n",
       "    <tr style=\"text-align: right;\">\n",
       "      <th></th>\n",
       "      <th>Gender</th>\n",
       "      <th>Married</th>\n",
       "      <th>Dependents</th>\n",
       "      <th>Education</th>\n",
       "      <th>Self_Employed</th>\n",
       "      <th>ApplicantIncome</th>\n",
       "      <th>CoapplicantIncome</th>\n",
       "      <th>LoanAmount</th>\n",
       "      <th>Loan_Amount_Term</th>\n",
       "      <th>Credit_History</th>\n",
       "      <th>Property_Area</th>\n",
       "      <th>Loan_Status</th>\n",
       "      <th>Income_bin</th>\n",
       "      <th>Total_Income</th>\n",
       "      <th>Total_Income_bin</th>\n",
       "      <th>Loan_Amount_per_year</th>\n",
       "      <th>EMI</th>\n",
       "      <th>Able_to_pay_EMI</th>\n",
       "      <th>NewFeature</th>\n",
       "      <th>Seperator</th>\n",
       "    </tr>\n",
       "  </thead>\n",
       "  <tbody>\n",
       "    <tr>\n",
       "      <th>0</th>\n",
       "      <td>0.472343</td>\n",
       "      <td>-1.372089</td>\n",
       "      <td>-0.737806</td>\n",
       "      <td>-0.528362</td>\n",
       "      <td>-0.156957</td>\n",
       "      <td>0.072991</td>\n",
       "      <td>-0.554487</td>\n",
       "      <td>-0.211241</td>\n",
       "      <td>0.273231</td>\n",
       "      <td>0.134703</td>\n",
       "      <td>-0.440191</td>\n",
       "      <td>0.674519</td>\n",
       "      <td>-0.114275</td>\n",
       "      <td>-0.182184</td>\n",
       "      <td>0.742878</td>\n",
       "      <td>-0.212270</td>\n",
       "      <td>-0.212270</td>\n",
       "      <td>-2.381998</td>\n",
       "      <td>NaN</td>\n",
       "      <td>-2.477808</td>\n",
       "    </tr>\n",
       "    <tr>\n",
       "      <th>1</th>\n",
       "      <td>0.472343</td>\n",
       "      <td>0.728816</td>\n",
       "      <td>0.253470</td>\n",
       "      <td>-0.528362</td>\n",
       "      <td>-0.156957</td>\n",
       "      <td>-0.134412</td>\n",
       "      <td>-0.038732</td>\n",
       "      <td>-0.211241</td>\n",
       "      <td>0.273231</td>\n",
       "      <td>0.134703</td>\n",
       "      <td>-1.109162</td>\n",
       "      <td>-1.482537</td>\n",
       "      <td>-0.114275</td>\n",
       "      <td>-0.144684</td>\n",
       "      <td>0.742878</td>\n",
       "      <td>-0.231329</td>\n",
       "      <td>-0.231329</td>\n",
       "      <td>0.419816</td>\n",
       "      <td>0.022464</td>\n",
       "      <td>0.403582</td>\n",
       "    </tr>\n",
       "    <tr>\n",
       "      <th>2</th>\n",
       "      <td>0.472343</td>\n",
       "      <td>0.728816</td>\n",
       "      <td>-0.737806</td>\n",
       "      <td>-0.528362</td>\n",
       "      <td>-0.680802</td>\n",
       "      <td>-0.393747</td>\n",
       "      <td>-0.554487</td>\n",
       "      <td>-0.948996</td>\n",
       "      <td>0.273231</td>\n",
       "      <td>0.134703</td>\n",
       "      <td>-0.440191</td>\n",
       "      <td>0.674519</td>\n",
       "      <td>0.802813</td>\n",
       "      <td>-0.623656</td>\n",
       "      <td>-3.232230</td>\n",
       "      <td>-0.568956</td>\n",
       "      <td>-0.568956</td>\n",
       "      <td>0.419816</td>\n",
       "      <td>-0.233642</td>\n",
       "      <td>0.403582</td>\n",
       "    </tr>\n",
       "    <tr>\n",
       "      <th>3</th>\n",
       "      <td>0.472343</td>\n",
       "      <td>0.728816</td>\n",
       "      <td>-0.737806</td>\n",
       "      <td>1.892641</td>\n",
       "      <td>-0.156957</td>\n",
       "      <td>-0.462062</td>\n",
       "      <td>0.251980</td>\n",
       "      <td>-0.306435</td>\n",
       "      <td>0.273231</td>\n",
       "      <td>0.134703</td>\n",
       "      <td>-0.440191</td>\n",
       "      <td>0.674519</td>\n",
       "      <td>0.802813</td>\n",
       "      <td>-0.322885</td>\n",
       "      <td>0.083421</td>\n",
       "      <td>-0.274894</td>\n",
       "      <td>-0.274894</td>\n",
       "      <td>0.419816</td>\n",
       "      <td>-0.270560</td>\n",
       "      <td>0.403582</td>\n",
       "    </tr>\n",
       "    <tr>\n",
       "      <th>4</th>\n",
       "      <td>0.472343</td>\n",
       "      <td>-1.372089</td>\n",
       "      <td>-0.737806</td>\n",
       "      <td>-0.528362</td>\n",
       "      <td>-0.156957</td>\n",
       "      <td>0.097728</td>\n",
       "      <td>-0.554487</td>\n",
       "      <td>-0.056551</td>\n",
       "      <td>0.273231</td>\n",
       "      <td>0.134703</td>\n",
       "      <td>-0.440191</td>\n",
       "      <td>0.674519</td>\n",
       "      <td>-0.114275</td>\n",
       "      <td>-0.158785</td>\n",
       "      <td>0.742878</td>\n",
       "      <td>-0.160537</td>\n",
       "      <td>-0.160537</td>\n",
       "      <td>0.419816</td>\n",
       "      <td>0.233256</td>\n",
       "      <td>0.403582</td>\n",
       "    </tr>\n",
       "  </tbody>\n",
       "</table>\n",
       "</div>"
      ],
      "text/plain": [
       "     Gender   Married  Dependents  Education  Self_Employed  ApplicantIncome  \\\n",
       "0  0.472343 -1.372089   -0.737806  -0.528362      -0.156957         0.072991   \n",
       "1  0.472343  0.728816    0.253470  -0.528362      -0.156957        -0.134412   \n",
       "2  0.472343  0.728816   -0.737806  -0.528362      -0.680802        -0.393747   \n",
       "3  0.472343  0.728816   -0.737806   1.892641      -0.156957        -0.462062   \n",
       "4  0.472343 -1.372089   -0.737806  -0.528362      -0.156957         0.097728   \n",
       "\n",
       "   CoapplicantIncome  LoanAmount  Loan_Amount_Term  Credit_History  \\\n",
       "0          -0.554487   -0.211241          0.273231        0.134703   \n",
       "1          -0.038732   -0.211241          0.273231        0.134703   \n",
       "2          -0.554487   -0.948996          0.273231        0.134703   \n",
       "3           0.251980   -0.306435          0.273231        0.134703   \n",
       "4          -0.554487   -0.056551          0.273231        0.134703   \n",
       "\n",
       "   Property_Area  Loan_Status  Income_bin  Total_Income  Total_Income_bin  \\\n",
       "0      -0.440191     0.674519   -0.114275     -0.182184          0.742878   \n",
       "1      -1.109162    -1.482537   -0.114275     -0.144684          0.742878   \n",
       "2      -0.440191     0.674519    0.802813     -0.623656         -3.232230   \n",
       "3      -0.440191     0.674519    0.802813     -0.322885          0.083421   \n",
       "4      -0.440191     0.674519   -0.114275     -0.158785          0.742878   \n",
       "\n",
       "   Loan_Amount_per_year       EMI  Able_to_pay_EMI  NewFeature  Seperator  \n",
       "0             -0.212270 -0.212270        -2.381998         NaN  -2.477808  \n",
       "1             -0.231329 -0.231329         0.419816    0.022464   0.403582  \n",
       "2             -0.568956 -0.568956         0.419816   -0.233642   0.403582  \n",
       "3             -0.274894 -0.274894         0.419816   -0.270560   0.403582  \n",
       "4             -0.160537 -0.160537         0.419816    0.233256   0.403582  "
      ]
     },
     "execution_count": 176,
     "metadata": {},
     "output_type": "execute_result"
    }
   ],
   "source": [
    "scaler = StandardScaler()\n",
    "std_data = scaler.fit_transform(data)\n",
    "std_data = pd.DataFrame(std_data,columns = data.columns)\n",
    "std_data.head()"
   ]
  },
  {
   "cell_type": "code",
   "execution_count": 179,
   "id": "8ab87113",
   "metadata": {},
   "outputs": [
    {
     "data": {
      "text/plain": [
       "<matplotlib.collections.PathCollection at 0x2bd564f3550>"
      ]
     },
     "execution_count": 179,
     "metadata": {},
     "output_type": "execute_result"
    },
    {
     "data": {
      "image/png": "[encoded data removed]",
      "text/plain": [
       "<Figure size 640x480 with 1 Axes>"
      ]
     },
     "metadata": {},
     "output_type": "display_data"
    }
   ],
   "source": [
    "plt.scatter(data['ApplicantIncome'],data['LoanAmount'])"
   ]
  },
  {
   "cell_type": "code",
   "execution_count": 180,
   "id": "8bc8134d",
   "metadata": {},
   "outputs": [
    {
     "data": {
      "text/plain": [
       "<matplotlib.collections.PathCollection at 0x2bd564fd790>"
      ]
     },
     "execution_count": 180,
     "metadata": {},
     "output_type": "execute_result"
    },
    {
     "data": {
      "image/png": "[encoded data removed]",
      "text/plain": [
       "<Figure size 640x480 with 1 Axes>"
      ]
     },
     "metadata": {},
     "output_type": "display_data"
    }
   ],
   "source": [
    "plt.scatter(std_data['ApplicantIncome'],std_data['LoanAmount'])"
   ]
  },
  {
   "cell_type": "code",
   "execution_count": 181,
   "id": "68d2b74c",
   "metadata": {},
   "outputs": [],
   "source": [
    "# Scatter plot is same for normal data and standardized data But Stretching and moving all that is happening."
   ]
  },
  {
   "cell_type": "markdown",
   "id": "770af53a",
   "metadata": {},
   "source": [
    "# Min Max Scaler"
   ]
  },
  {
   "cell_type": "code",
   "execution_count": 182,
   "id": "2f819961",
   "metadata": {},
   "outputs": [],
   "source": [
    "from sklearn.preprocessing import MinMaxScaler"
   ]
  },
  {
   "cell_type": "code",
   "execution_count": 183,
   "id": "f9c56e21",
   "metadata": {},
   "outputs": [],
   "source": [
    "scaler = MinMaxScaler()"
   ]
  },
  {
   "cell_type": "code",
   "execution_count": 184,
   "id": "ddfb3c1a",
   "metadata": {},
   "outputs": [
    {
     "data": {
      "text/html": [
       "<div>\n",
       "<style scoped>\n",
       "    .dataframe tbody tr th:only-of-type {\n",
       "        vertical-align: middle;\n",
       "    }\n",
       "\n",
       "    .dataframe tbody tr th {\n",
       "        vertical-align: top;\n",
       "    }\n",
       "\n",
       "    .dataframe thead th {\n",
       "        text-align: right;\n",
       "    }\n",
       "</style>\n",
       "<table border=\"1\" class=\"dataframe\">\n",
       "  <thead>\n",
       "    <tr style=\"text-align: right;\">\n",
       "      <th></th>\n",
       "      <th>Gender</th>\n",
       "      <th>Married</th>\n",
       "      <th>Dependents</th>\n",
       "      <th>Education</th>\n",
       "      <th>Self_Employed</th>\n",
       "      <th>ApplicantIncome</th>\n",
       "      <th>CoapplicantIncome</th>\n",
       "      <th>LoanAmount</th>\n",
       "      <th>Loan_Amount_Term</th>\n",
       "      <th>Credit_History</th>\n",
       "      <th>Property_Area</th>\n",
       "      <th>Loan_Status</th>\n",
       "      <th>Income_bin</th>\n",
       "      <th>Total_Income</th>\n",
       "      <th>Total_Income_bin</th>\n",
       "      <th>Loan_Amount_per_year</th>\n",
       "      <th>EMI</th>\n",
       "      <th>Able_to_pay_EMI</th>\n",
       "      <th>NewFeature</th>\n",
       "      <th>Seperator</th>\n",
       "    </tr>\n",
       "  </thead>\n",
       "  <tbody>\n",
       "    <tr>\n",
       "      <th>0</th>\n",
       "      <td>1.0</td>\n",
       "      <td>0.0</td>\n",
       "      <td>0.000000</td>\n",
       "      <td>0.0</td>\n",
       "      <td>0.107393</td>\n",
       "      <td>0.070489</td>\n",
       "      <td>0.000000</td>\n",
       "      <td>0.172214</td>\n",
       "      <td>0.74359</td>\n",
       "      <td>0.5</td>\n",
       "      <td>0.285533</td>\n",
       "      <td>1.0</td>\n",
       "      <td>0.741400</td>\n",
       "      <td>0.055394</td>\n",
       "      <td>1.000000</td>\n",
       "      <td>0.036886</td>\n",
       "      <td>0.036886</td>\n",
       "      <td>0.0</td>\n",
       "      <td>NaN</td>\n",
       "      <td>0.0</td>\n",
       "    </tr>\n",
       "    <tr>\n",
       "      <th>1</th>\n",
       "      <td>1.0</td>\n",
       "      <td>1.0</td>\n",
       "      <td>0.333333</td>\n",
       "      <td>0.0</td>\n",
       "      <td>0.107393</td>\n",
       "      <td>0.054830</td>\n",
       "      <td>0.036192</td>\n",
       "      <td>0.172214</td>\n",
       "      <td>0.74359</td>\n",
       "      <td>0.5</td>\n",
       "      <td>0.000000</td>\n",
       "      <td>0.0</td>\n",
       "      <td>0.741400</td>\n",
       "      <td>0.058435</td>\n",
       "      <td>1.000000</td>\n",
       "      <td>0.035833</td>\n",
       "      <td>0.035833</td>\n",
       "      <td>1.0</td>\n",
       "      <td>0.126546</td>\n",
       "      <td>1.0</td>\n",
       "    </tr>\n",
       "    <tr>\n",
       "      <th>2</th>\n",
       "      <td>1.0</td>\n",
       "      <td>1.0</td>\n",
       "      <td>0.000000</td>\n",
       "      <td>0.0</td>\n",
       "      <td>0.000000</td>\n",
       "      <td>0.035250</td>\n",
       "      <td>0.000000</td>\n",
       "      <td>0.082489</td>\n",
       "      <td>0.74359</td>\n",
       "      <td>0.5</td>\n",
       "      <td>0.285533</td>\n",
       "      <td>1.0</td>\n",
       "      <td>0.992449</td>\n",
       "      <td>0.019583</td>\n",
       "      <td>0.000000</td>\n",
       "      <td>0.017164</td>\n",
       "      <td>0.017164</td>\n",
       "      <td>1.0</td>\n",
       "      <td>0.104508</td>\n",
       "      <td>1.0</td>\n",
       "    </tr>\n",
       "    <tr>\n",
       "      <th>3</th>\n",
       "      <td>1.0</td>\n",
       "      <td>1.0</td>\n",
       "      <td>0.000000</td>\n",
       "      <td>1.0</td>\n",
       "      <td>0.107393</td>\n",
       "      <td>0.030093</td>\n",
       "      <td>0.056592</td>\n",
       "      <td>0.160637</td>\n",
       "      <td>0.74359</td>\n",
       "      <td>0.5</td>\n",
       "      <td>0.285533</td>\n",
       "      <td>1.0</td>\n",
       "      <td>0.992449</td>\n",
       "      <td>0.043980</td>\n",
       "      <td>0.834103</td>\n",
       "      <td>0.033424</td>\n",
       "      <td>0.033424</td>\n",
       "      <td>1.0</td>\n",
       "      <td>0.101332</td>\n",
       "      <td>1.0</td>\n",
       "    </tr>\n",
       "    <tr>\n",
       "      <th>4</th>\n",
       "      <td>1.0</td>\n",
       "      <td>0.0</td>\n",
       "      <td>0.000000</td>\n",
       "      <td>0.0</td>\n",
       "      <td>0.107393</td>\n",
       "      <td>0.072356</td>\n",
       "      <td>0.000000</td>\n",
       "      <td>0.191027</td>\n",
       "      <td>0.74359</td>\n",
       "      <td>0.5</td>\n",
       "      <td>0.285533</td>\n",
       "      <td>1.0</td>\n",
       "      <td>0.741400</td>\n",
       "      <td>0.057292</td>\n",
       "      <td>1.000000</td>\n",
       "      <td>0.039747</td>\n",
       "      <td>0.039747</td>\n",
       "      <td>1.0</td>\n",
       "      <td>0.144685</td>\n",
       "      <td>1.0</td>\n",
       "    </tr>\n",
       "  </tbody>\n",
       "</table>\n",
       "</div>"
      ],
      "text/plain": [
       "   Gender  Married  Dependents  Education  Self_Employed  ApplicantIncome  \\\n",
       "0     1.0      0.0    0.000000        0.0       0.107393         0.070489   \n",
       "1     1.0      1.0    0.333333        0.0       0.107393         0.054830   \n",
       "2     1.0      1.0    0.000000        0.0       0.000000         0.035250   \n",
       "3     1.0      1.0    0.000000        1.0       0.107393         0.030093   \n",
       "4     1.0      0.0    0.000000        0.0       0.107393         0.072356   \n",
       "\n",
       "   CoapplicantIncome  LoanAmount  Loan_Amount_Term  Credit_History  \\\n",
       "0           0.000000    0.172214           0.74359             0.5   \n",
       "1           0.036192    0.172214           0.74359             0.5   \n",
       "2           0.000000    0.082489           0.74359             0.5   \n",
       "3           0.056592    0.160637           0.74359             0.5   \n",
       "4           0.000000    0.191027           0.74359             0.5   \n",
       "\n",
       "   Property_Area  Loan_Status  Income_bin  Total_Income  Total_Income_bin  \\\n",
       "0       0.285533          1.0    0.741400      0.055394          1.000000   \n",
       "1       0.000000          0.0    0.741400      0.058435          1.000000   \n",
       "2       0.285533          1.0    0.992449      0.019583          0.000000   \n",
       "3       0.285533          1.0    0.992449      0.043980          0.834103   \n",
       "4       0.285533          1.0    0.741400      0.057292          1.000000   \n",
       "\n",
       "   Loan_Amount_per_year       EMI  Able_to_pay_EMI  NewFeature  Seperator  \n",
       "0              0.036886  0.036886              0.0         NaN        0.0  \n",
       "1              0.035833  0.035833              1.0    0.126546        1.0  \n",
       "2              0.017164  0.017164              1.0    0.104508        1.0  \n",
       "3              0.033424  0.033424              1.0    0.101332        1.0  \n",
       "4              0.039747  0.039747              1.0    0.144685        1.0  "
      ]
     },
     "execution_count": 184,
     "metadata": {},
     "output_type": "execute_result"
    }
   ],
   "source": [
    "mm_data = scaler.fit_transform(data)\n",
    "mm_data = pd.DataFrame(mm_data,columns = data.columns)\n",
    "mm_data.head()"
   ]
  },
  {
   "cell_type": "code",
   "execution_count": 185,
   "id": "fe0d2f0f",
   "metadata": {},
   "outputs": [],
   "source": [
    "# Now suddenly we see all this weird no.s in data. But in ML when we use any algorithm to predict ( we use these scaling data only)"
   ]
  },
  {
   "cell_type": "code",
   "execution_count": null,
   "id": "ed7be31a",
   "metadata": {},
   "outputs": [],
   "source": []
  }
 ],
 "metadata": {
  "kernelspec": {
   "display_name": "Python 3 (ipykernel)",
   "language": "python",
   "name": "python3"
  },
  "language_info": {
   "codemirror_mode": {
    "name": "ipython",
    "version": 3
   },
   "file_extension": ".py",
   "mimetype": "text/x-python",
   "name": "python",
   "nbconvert_exporter": "python",
   "pygments_lexer": "ipython3",
   "version": "3.11.2"
  }
 },
 "nbformat": 4,
 "nbformat_minor": 5
}
